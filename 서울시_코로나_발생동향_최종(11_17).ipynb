{
 "cells": [
  {
   "cell_type": "code",
   "execution_count": null,
   "metadata": {
    "id": "jk4PsBiSF2vX"
   },
   "outputs": [],
   "source": [
    "import pandas as pd\n",
    "import numpy as np\n",
    "import matplotlib.pyplot as plt"
   ]
  },
  {
   "cell_type": "code",
   "execution_count": null,
   "metadata": {
    "id": "1_OFTRfWxli6"
   },
   "outputs": [],
   "source": [
    "url= \"https://www.seoul.go.kr/coronaV/coronaStatus.do\""
   ]
  },
  {
   "cell_type": "code",
   "execution_count": null,
   "metadata": {
    "colab": {
     "base_uri": "https://localhost:8080/",
     "height": 49
    },
    "id": "foH7vZwQyCFP",
    "outputId": "d463812a-4d51-4de9-8e7e-6f49a86f3059"
   },
   "outputs": [
    {
     "data": {
      "text/html": [
       "<div>\n",
       "<style scoped>\n",
       "    .dataframe tbody tr th:only-of-type {\n",
       "        vertical-align: middle;\n",
       "    }\n",
       "\n",
       "    .dataframe tbody tr th {\n",
       "        vertical-align: top;\n",
       "    }\n",
       "\n",
       "    .dataframe thead th {\n",
       "        text-align: right;\n",
       "    }\n",
       "</style>\n",
       "<table border=\"1\" class=\"dataframe\">\n",
       "  <thead>\n",
       "    <tr style=\"text-align: right;\">\n",
       "      <th></th>\n",
       "      <th>연번</th>\n",
       "      <th>환자</th>\n",
       "      <th>확진일</th>\n",
       "      <th>거주지</th>\n",
       "      <th>여행력</th>\n",
       "      <th>접촉력</th>\n",
       "      <th>퇴원현황</th>\n",
       "    </tr>\n",
       "  </thead>\n",
       "  <tbody>\n",
       "  </tbody>\n",
       "</table>\n",
       "</div>"
      ],
      "text/plain": [
       "Empty DataFrame\n",
       "Columns: [연번, 환자, 확진일, 거주지, 여행력, 접촉력, 퇴원현황]\n",
       "Index: []"
      ]
     },
     "execution_count": 13,
     "metadata": {},
     "output_type": "execute_result"
    }
   ],
   "source": [
    "# read_html 은 사이트 내의 html 태그를 불러옵니다.\n",
    "table = pd.read_html(url)\n",
    "\n",
    "# table 변수 안에 있는 table 태그의 값을 하나씩 읽어보며 확진자 목록이 있는 테이블을 가져옵니다.\n",
    "df=table[5]\n",
    "df"
   ]
  },
  {
   "cell_type": "code",
   "execution_count": null,
   "metadata": {
    "id": "ZgEXtxA6uXWr"
   },
   "outputs": [],
   "source": [
    "import requests\n",
    "url= \"https://news.seoul.go.kr/api/27/getCorona19Status/get_status_ajax.php?draw=1&columns[0][data]=0\"\n",
    "#url= f\"{url}&columns[0][name]=&columns[0][searchable]=true&columns[0][orderable]=true&columns[0][search][value]=&columns[0][search][regex]=false&columns[1][data]=1&columns[1][name]=&columns[1][searchable]=true&columns[1][orderable]=true&columns[1][search][value]=&columns[1][search][regex]=false&columns[2][data]=2&columns[2][name]=&columns[2][searchable]=true&columns[2][orderable]=true&columns[2][search][value]=&columns[2][search][regex]=false&columns[3][data]=3&columns[3][name]=&columns[3][searchable]=true&columns[3][orderable]=true&columns[3][search][value]=&columns[3][search][regex]=false&columns[4][data]=4&columns[4][name]=&columns[4][searchable]=true&columns[4][orderable]=true&columns[4][search][value]=&columns[4][search][regex]=false&columns[5][data]=5&columns[5][name]=&columns[5][searchable]=true&columns[5][orderable]=true&columns[5][search][value]=&columns[5][search][regex]=false&columns[6][data]=6&columns[6][name]=&columns[6][searchable]=true&columns[6][orderable]=true&columns[6][search][value]=&columns[6][search][regex]=false&order[0][column]=0&order[0][dir]=desc&start=0&length=100&search[value]=&search[regex]=true&_=1634131509151\"\n",
    "url = f\"{url}&start=100&length=100&search%5Bvalue%5D=&search%5Bregex%5D=true&_=1634131509153\"\n",
    "\n",
    "response=requests.get(url)"
   ]
  },
  {
   "cell_type": "code",
   "execution_count": null,
   "metadata": {
    "id": "hhMhfk3Ru3kb"
   },
   "outputs": [],
   "source": [
    "data_json=response.json()"
   ]
  },
  {
   "cell_type": "code",
   "execution_count": null,
   "metadata": {
    "id": "esF2G95KvPAg"
   },
   "outputs": [],
   "source": [
    "import time\n",
    "from tqdm import trange"
   ]
  },
  {
   "cell_type": "code",
   "execution_count": null,
   "metadata": {
    "id": "Tp3knB6IvduR"
   },
   "outputs": [],
   "source": [
    "def get_seoul_covid19_100001_currnet(page_no):\n",
    "  ''' \n",
    "  page no: 입력값으로 페이지 번호를 입력하면 해당 번호의 데이터를 가져옴\n",
    "  start no: 입력받은  page_no로\n",
    "  '''\n",
    "  start_no=(page_no-1)*100\n",
    "  url= f\"https://news.seoul.go.kr/api/27/getCorona19Status/get_status_ajax.php?draw{page_no}\"\n",
    "  #url= f\"{url}&columns[0][name]=&columns[0][searchable]=true&columns[0][orderable]=true&columns[0][search][value]=&columns[0][search][regex]=false&columns[1][data]=1&columns[1][name]=&columns[1][searchable]=true&columns[1][orderable]=true&columns[1][search][value]=&columns[1][search][regex]=false&columns[2][data]=2&columns[2][name]=&columns[2][searchable]=true&columns[2][orderable]=true&columns[2][search][value]=&columns[2][search][regex]=false&columns[3][data]=3&columns[3][name]=&columns[3][searchable]=true&columns[3][orderable]=true&columns[3][search][value]=&columns[3][search][regex]=false&columns[4][data]=4&columns[4][name]=&columns[4][searchable]=true&columns[4][orderable]=true&columns[4][search][value]=&columns[4][search][regex]=false&columns[5][data]=5&columns[5][name]=&columns[5][searchable]=true&columns[5][orderable]=true&columns[5][search][value]=&columns[5][search][regex]=false&columns[6][data]=6&columns[6][name]=&columns[6][searchable]=true&columns[6][orderable]=true&columns[6][search][value]=&columns[6][search][regex]=false&order[0][column]=0&order[0][dir]=desc&start=0&length=100&search[value]=&search[regex]=true&_=1634131509151\"\n",
    "  url = f\"{url}&order%5B0%5D%5Bdir%5D=desc&start={start_no}&length=100\"\n",
    "  \n",
    "  response=requests.get(url)\n",
    "  data_json = response.json()\n",
    "  return data_json\n"
   ]
  },
  {
   "cell_type": "code",
   "execution_count": null,
   "metadata": {
    "id": "BAtooMaQ0wFc"
   },
   "outputs": [],
   "source": [
    "def get_multi_page_list_100001_currnet(start_page,end_page=80):\n",
    "\n",
    "  page_list=[]\n",
    "  for page_no in trange(start_page,end_page+1):\n",
    "    one_page_data_json =get_seoul_covid19_100001_currnet(page_no)\n",
    "    if len(one_page_data_json[\"data\"])>0:\n",
    "        one_page_df =pd.DataFrame(one_page_data_json[\"data\"])\n",
    "        page_list.append(one_page_df)\n",
    "        time.sleep(0.5)\n",
    "    else:\n",
    "      return page_list\n",
    "  \n",
    "  return page_list\n",
    "\n"
   ]
  },
  {
   "cell_type": "code",
   "execution_count": null,
   "metadata": {
    "colab": {
     "base_uri": "https://localhost:8080/",
     "height": 221
    },
    "id": "HgILBFTPIZTN",
    "outputId": "21895384-9351-4bc4-c8ce-c37f8d51fd93"
   },
   "outputs": [
    {
     "name": "stderr",
     "output_type": "stream",
     "text": [
      " 93%|█████████▎| 650/700 [11:40<00:53,  1.08s/it]\n"
     ]
    },
    {
     "data": {
      "text/html": [
       "<div>\n",
       "<style scoped>\n",
       "    .dataframe tbody tr th:only-of-type {\n",
       "        vertical-align: middle;\n",
       "    }\n",
       "\n",
       "    .dataframe tbody tr th {\n",
       "        vertical-align: top;\n",
       "    }\n",
       "\n",
       "    .dataframe thead th {\n",
       "        text-align: right;\n",
       "    }\n",
       "</style>\n",
       "<table border=\"1\" class=\"dataframe\">\n",
       "  <thead>\n",
       "    <tr style=\"text-align: right;\">\n",
       "      <th></th>\n",
       "      <th>연번</th>\n",
       "      <th>환자</th>\n",
       "      <th>확진일</th>\n",
       "      <th>거주지</th>\n",
       "      <th>여행력</th>\n",
       "      <th>접촉력</th>\n",
       "      <th>퇴원현황</th>\n",
       "    </tr>\n",
       "  </thead>\n",
       "  <tbody>\n",
       "    <tr>\n",
       "      <th>0</th>\n",
       "      <td>&lt;p class='corona19_no'&gt;134948&lt;/p&gt;</td>\n",
       "      <td>402571</td>\n",
       "      <td>2021-11-16</td>\n",
       "      <td>송파구</td>\n",
       "      <td>-</td>\n",
       "      <td>감염경로 조사중</td>\n",
       "      <td>&lt;b class=''&gt;-&lt;/b&gt;</td>\n",
       "    </tr>\n",
       "    <tr>\n",
       "      <th>1</th>\n",
       "      <td>&lt;p class='corona19_no'&gt;134947&lt;/p&gt;</td>\n",
       "      <td>402570</td>\n",
       "      <td>2021-11-16</td>\n",
       "      <td>송파구</td>\n",
       "      <td>-</td>\n",
       "      <td>감염경로 조사중</td>\n",
       "      <td>&lt;b class=''&gt;-&lt;/b&gt;</td>\n",
       "    </tr>\n",
       "    <tr>\n",
       "      <th>2</th>\n",
       "      <td>&lt;p class='corona19_no'&gt;134946&lt;/p&gt;</td>\n",
       "      <td>402529</td>\n",
       "      <td>2021-11-16</td>\n",
       "      <td>성동구</td>\n",
       "      <td>-</td>\n",
       "      <td>기타 확진자 접촉</td>\n",
       "      <td>&lt;b class=''&gt;-&lt;/b&gt;</td>\n",
       "    </tr>\n",
       "    <tr>\n",
       "      <th>3</th>\n",
       "      <td>&lt;p class='corona19_no'&gt;134945&lt;/p&gt;</td>\n",
       "      <td>402402</td>\n",
       "      <td>2021-11-16</td>\n",
       "      <td>타시도</td>\n",
       "      <td>-</td>\n",
       "      <td>감염경로 조사중</td>\n",
       "      <td>&lt;b class=''&gt;-&lt;/b&gt;</td>\n",
       "    </tr>\n",
       "    <tr>\n",
       "      <th>4</th>\n",
       "      <td>&lt;p class='corona19_no'&gt;134944&lt;/p&gt;</td>\n",
       "      <td>402324</td>\n",
       "      <td>2021-11-16</td>\n",
       "      <td>타시도</td>\n",
       "      <td>-</td>\n",
       "      <td>감염경로 조사중</td>\n",
       "      <td>&lt;b class=''&gt;-&lt;/b&gt;</td>\n",
       "    </tr>\n",
       "  </tbody>\n",
       "</table>\n",
       "</div>"
      ],
      "text/plain": [
       "                                  연번      환자  ...        접촉력               퇴원현황\n",
       "0  <p class='corona19_no'>134948</p>  402571  ...   감염경로 조사중  <b class=''>-</b>\n",
       "1  <p class='corona19_no'>134947</p>  402570  ...   감염경로 조사중  <b class=''>-</b>\n",
       "2  <p class='corona19_no'>134946</p>  402529  ...  기타 확진자 접촉  <b class=''>-</b>\n",
       "3  <p class='corona19_no'>134945</p>  402402  ...   감염경로 조사중  <b class=''>-</b>\n",
       "4  <p class='corona19_no'>134944</p>  402324  ...   감염경로 조사중  <b class=''>-</b>\n",
       "\n",
       "[5 rows x 7 columns]"
      ]
     },
     "execution_count": 19,
     "metadata": {},
     "output_type": "execute_result"
    }
   ],
   "source": [
    "start_page=1\n",
    "end_page= 700\n",
    "\n",
    "page_list= get_multi_page_list_100001_currnet(start_page, end_page) \n",
    "df_all_10001_current=pd.concat(page_list)\n",
    "\n",
    "df_all_10001_current.columns = table[5].columns.tolist()\n",
    "df_all_10001_current.head()"
   ]
  },
  {
   "cell_type": "code",
   "execution_count": null,
   "metadata": {
    "id": "U43NwpL4I6om"
   },
   "outputs": [],
   "source": [
    "df_all=pd.concat(page_list)"
   ]
  },
  {
   "cell_type": "code",
   "execution_count": null,
   "metadata": {
    "id": "PZkVSGzj6qDL"
   },
   "outputs": [],
   "source": [
    "cols = df.columns.tolist()"
   ]
  },
  {
   "cell_type": "code",
   "execution_count": null,
   "metadata": {
    "id": "xqU86ph6Jwl_"
   },
   "outputs": [],
   "source": [
    "df_all.columns = cols"
   ]
  },
  {
   "cell_type": "code",
   "execution_count": null,
   "metadata": {
    "id": "h-GnrnTmJ8m5"
   },
   "outputs": [],
   "source": [
    "import re\n",
    "def extract_number(num_string):\n",
    "  if type(num_string)==str:\n",
    "    num_string=num_string.replace(\"corona19\",\"\")\n",
    "    num=re.sub(\"[^0-9]\",\"\",num_string)\n",
    "    num=int(num)\n",
    "    return num\n",
    "  else:\n",
    "    return num_string"
   ]
  },
  {
   "cell_type": "code",
   "execution_count": null,
   "metadata": {
    "id": "mYM39S3gKpZj"
   },
   "outputs": [],
   "source": [
    "num_string =\"<p class='corona19_no'>109940</p>\""
   ]
  },
  {
   "cell_type": "code",
   "execution_count": null,
   "metadata": {
    "id": "v-KryNPAl0DG"
   },
   "outputs": [],
   "source": [
    "df_all[\"연번\"]=df_all[\"연번\"].map(extract_number)"
   ]
  },
  {
   "cell_type": "code",
   "execution_count": null,
   "metadata": {
    "id": "bDK1uweSLANR"
   },
   "outputs": [],
   "source": [
    "def extract_hangeul(origin_text):\n",
    "  subtract_text=re.sub(\"[^가-힣]\",\"\",origin_text)\n",
    "  return subtract_text"
   ]
  },
  {
   "cell_type": "code",
   "execution_count": null,
   "metadata": {
    "colab": {
     "base_uri": "https://localhost:8080/",
     "height": 35
    },
    "id": "c1KqwyDMLi8t",
    "outputId": "ec1a332f-149f-40e2-cc2f-ba880c8ec37f"
   },
   "outputs": [
    {
     "data": {
      "application/vnd.google.colaboratory.intrinsic+json": {
       "type": "string"
      },
      "text/plain": [
       "'기타'"
      ]
     },
     "execution_count": 27,
     "metadata": {},
     "output_type": "execute_result"
    }
   ],
   "source": [
    "extract_hangeul(\"<b class='status1'>기타</b>\")"
   ]
  },
  {
   "cell_type": "code",
   "execution_count": null,
   "metadata": {
    "colab": {
     "base_uri": "https://localhost:8080/",
     "height": 35
    },
    "id": "rrjooLrDLteI",
    "outputId": "03a94815-704b-4e52-e3b1-b71b0444edf3"
   },
   "outputs": [
    {
     "data": {
      "application/vnd.google.colaboratory.intrinsic+json": {
       "type": "string"
      },
      "text/plain": [
       "'퇴원'"
      ]
     },
     "execution_count": 28,
     "metadata": {},
     "output_type": "execute_result"
    }
   ],
   "source": [
    "extract_hangeul(\"<b class='status1'>퇴원</b>\")"
   ]
  },
  {
   "cell_type": "code",
   "execution_count": null,
   "metadata": {
    "colab": {
     "base_uri": "https://localhost:8080/",
     "height": 35
    },
    "id": "MfCV-H-9LyOy",
    "outputId": "a3f07d86-efd3-457a-fd8f-caefe52d6a2d"
   },
   "outputs": [
    {
     "data": {
      "application/vnd.google.colaboratory.intrinsic+json": {
       "type": "string"
      },
      "text/plain": [
       "''"
      ]
     },
     "execution_count": 29,
     "metadata": {},
     "output_type": "execute_result"
    }
   ],
   "source": [
    "extract_hangeul(\"<b class=''></b>\")"
   ]
  },
  {
   "cell_type": "code",
   "execution_count": null,
   "metadata": {
    "colab": {
     "base_uri": "https://localhost:8080/"
    },
    "id": "gizbsUO-M5wo",
    "outputId": "cb1e6b16-49eb-4431-e083-4e3a9edc9a52"
   },
   "outputs": [
    {
     "data": {
      "text/plain": [
       "<bound method DataFrame.all of Empty DataFrame\n",
       "Columns: [연번, 환자, 확진일, 거주지, 여행력, 접촉력, 퇴원현황]\n",
       "Index: []>"
      ]
     },
     "execution_count": 30,
     "metadata": {},
     "output_type": "execute_result"
    }
   ],
   "source": [
    "df.all"
   ]
  },
  {
   "cell_type": "code",
   "execution_count": null,
   "metadata": {
    "colab": {
     "base_uri": "https://localhost:8080/"
    },
    "id": "rOyHGG7HMTrF",
    "outputId": "91418065-f65e-4b4a-a870-da09b489a41a"
   },
   "outputs": [
    {
     "data": {
      "text/plain": [
       "<b class='status1'>퇴원</b>    44698\n",
       "<b class='status1'>-</b>     14730\n",
       "<b class=''>-</b>             4708\n",
       "<b class='status2'>-</b>       510\n",
       "<b class='status2'>사망</b>      302\n",
       "Name: 퇴원현황, dtype: int64"
      ]
     },
     "execution_count": 31,
     "metadata": {},
     "output_type": "execute_result"
    }
   ],
   "source": [
    "df_all[\"퇴원현황\"].value_counts()"
   ]
  },
  {
   "cell_type": "code",
   "execution_count": null,
   "metadata": {
    "colab": {
     "base_uri": "https://localhost:8080/"
    },
    "id": "3_v69QZQOeeY",
    "outputId": "c69cfc39-472c-4df6-d81d-30a8a5f8425b"
   },
   "outputs": [
    {
     "data": {
      "text/plain": [
       "퇴원    44698\n",
       "사망      302\n",
       "Name: 퇴원현황, dtype: int64"
      ]
     },
     "execution_count": 32,
     "metadata": {},
     "output_type": "execute_result"
    }
   ],
   "source": [
    "df_all.loc[df_all[\"퇴원현황\"].str.contains(\"퇴원\"),\"퇴원현황\"]=\"퇴원\"\n",
    "df_all.loc[df_all[\"퇴원현황\"].str.contains(\"사망\"),\"퇴원현황\"]=\"사망\"\n",
    "df_all.loc[~df_all[\"퇴원현황\"].str.contains(\"퇴원|사망\"),\"퇴원현황\"] = np.nan\n",
    "df_all[\"퇴원현황\"].value_counts()"
   ]
  },
  {
   "cell_type": "code",
   "execution_count": null,
   "metadata": {
    "colab": {
     "base_uri": "https://localhost:8080/"
    },
    "id": "DlYs28_t6bVa",
    "outputId": "7be3c0b3-c7a1-4814-cb58-a747b79ca5e5"
   },
   "outputs": [
    {
     "data": {
      "text/plain": [
       "0     NaN\n",
       "1     NaN\n",
       "2     NaN\n",
       "3     NaN\n",
       "4     NaN\n",
       "     ... \n",
       "43     퇴원\n",
       "44     퇴원\n",
       "45     퇴원\n",
       "46     퇴원\n",
       "47     퇴원\n",
       "Name: 퇴원현황, Length: 64948, dtype: object"
      ]
     },
     "execution_count": 33,
     "metadata": {},
     "output_type": "execute_result"
    }
   ],
   "source": [
    "df_all[\"퇴원현황\"]"
   ]
  },
  {
   "cell_type": "code",
   "execution_count": null,
   "metadata": {
    "colab": {
     "base_uri": "https://localhost:8080/",
     "height": 35
    },
    "id": "zZCa4bkkO5Ig",
    "outputId": "666b5684-a6d2-4379-a3a6-87ff0ac1b46d"
   },
   "outputs": [
    {
     "data": {
      "application/vnd.google.colaboratory.intrinsic+json": {
       "type": "string"
      },
      "text/plain": [
       "'2021-11-16'"
      ]
     },
     "execution_count": 34,
     "metadata": {},
     "output_type": "execute_result"
    }
   ],
   "source": [
    "last_date = df_all.iloc[0][\"확진일\"]\n",
    "last_date"
   ]
  },
  {
   "cell_type": "code",
   "execution_count": null,
   "metadata": {
    "colab": {
     "base_uri": "https://localhost:8080/",
     "height": 35
    },
    "id": "ZHLd5_REPB-a",
    "outputId": "9395dc49-e86d-460a-ecbf-884923bf9877"
   },
   "outputs": [
    {
     "data": {
      "application/vnd.google.colaboratory.intrinsic+json": {
       "type": "string"
      },
      "text/plain": [
       "'2021-11-16'"
      ]
     },
     "execution_count": 35,
     "metadata": {},
     "output_type": "execute_result"
    }
   ],
   "source": [
    "#마지막 확진일을 파일명에 써주기 위해.을 _로 변경합니다.\n",
    "#확장자와 구분이 쉽게 되도록 _로 변경합니다\n",
    "\n",
    "date=last_date.replace(\".\",\"_\")\n",
    "date"
   ]
  },
  {
   "cell_type": "code",
   "execution_count": null,
   "metadata": {
    "colab": {
     "base_uri": "https://localhost:8080/",
     "height": 35
    },
    "id": "7Lod93dHPRyS",
    "outputId": "7e9e76fe-9e9f-44b1-d86b-ce56a348b2e1"
   },
   "outputs": [
    {
     "data": {
      "application/vnd.google.colaboratory.intrinsic+json": {
       "type": "string"
      },
      "text/plain": [
       "'seoul-covid19-2021-11-16.csv'"
      ]
     },
     "execution_count": 36,
     "metadata": {},
     "output_type": "execute_result"
    }
   ],
   "source": [
    "#파일명을 만들어 줍니다.\n",
    "#file_name\n",
    "\n",
    "file_name = f\"seoul-covid19-{date}.csv\"\n",
    "file_name"
   ]
  },
  {
   "cell_type": "code",
   "execution_count": null,
   "metadata": {
    "id": "G1zPlnAVPfKQ"
   },
   "outputs": [],
   "source": [
    "#csv파일로 저장합니다.\n",
    "df_all.to_csv(file_name,index=False)"
   ]
  },
  {
   "cell_type": "code",
   "execution_count": null,
   "metadata": {
    "id": "xBY2ncTYPnMi"
   },
   "outputs": [],
   "source": [
    "#제대로 저장되었는지 확인합니다.\n",
    "df = pd.read_csv(file_name, encoding=\"utf-8\")\n",
    "df[\"확진일\"] = pd.to_datetime(df[\"확진일\"])"
   ]
  },
  {
   "cell_type": "code",
   "execution_count": null,
   "metadata": {
    "colab": {
     "base_uri": "https://localhost:8080/"
    },
    "id": "bCsneiy5WoQG",
    "outputId": "039d8ecd-e314-4663-e026-cd159514c238"
   },
   "outputs": [
    {
     "name": "stderr",
     "output_type": "stream",
     "text": [
      "/usr/local/lib/python3.7/dist-packages/ipykernel_launcher.py:4: FutureWarning: Series.dt.weekofyear and Series.dt.week have been deprecated.  Please use Series.dt.isocalendar().week instead.\n",
      "  after removing the cwd from sys.path.\n"
     ]
    }
   ],
   "source": [
    "# 월,주를 추출합니다.\n",
    "\n",
    "df[\"월\"] = df[\"확진일\"].dt.month\n",
    "df[\"주\"] = df[\"확진일\"].dt.week"
   ]
  },
  {
   "cell_type": "code",
   "execution_count": null,
   "metadata": {
    "id": "TTxqpQmiW98u"
   },
   "outputs": [],
   "source": [
    "# 일자별 확진자수를 선그래프로 그립니다.\n",
    "# 월일만 표기되도록 슬라이싱을 사용해 \"월일\" 컬럼을 만듭니다.\n",
    "df[\"월일\"] = df[\"확진일\"].astype(str).map(lambda x : x[-5:])\n",
    "day_count = df[\"월일\"].value_counts().sort_index()"
   ]
  },
  {
   "cell_type": "code",
   "execution_count": null,
   "metadata": {
    "colab": {
     "base_uri": "https://localhost:8080/"
    },
    "id": "FItPFcbF0PV9",
    "outputId": "d9fbba87-18fc-4cc4-88cf-9c1250d29937"
   },
   "outputs": [
    {
     "name": "stdout",
     "output_type": "stream",
     "text": [
      "/usr/share/fonts: caching, new cache contents: 0 fonts, 1 dirs\n",
      "/usr/share/fonts/truetype: caching, new cache contents: 0 fonts, 3 dirs\n",
      "/usr/share/fonts/truetype/humor-sans: caching, new cache contents: 1 fonts, 0 dirs\n",
      "/usr/share/fonts/truetype/liberation: caching, new cache contents: 16 fonts, 0 dirs\n",
      "/usr/share/fonts/truetype/nanum: caching, new cache contents: 10 fonts, 0 dirs\n",
      "/usr/local/share/fonts: caching, new cache contents: 0 fonts, 0 dirs\n",
      "/root/.local/share/fonts: skipping, no such directory\n",
      "/root/.fonts: skipping, no such directory\n",
      "/var/cache/fontconfig: cleaning cache directory\n",
      "/root/.cache/fontconfig: not cleaning non-existent cache directory\n",
      "/root/.fontconfig: not cleaning non-existent cache directory\n",
      "fc-cache: succeeded\n"
     ]
    }
   ],
   "source": [
    "#한글폰트 설정\n",
    "\n",
    "def get_font_family():\n",
    "    \"\"\"\n",
    "    시스템 환경에 따른 기본 폰트명을 반환하는 함수\n",
    "    \"\"\"\n",
    "    import platform\n",
    "    system_name = platform.system()\n",
    "    # colab 사용자는 system_name이 'Linux'로 확인\n",
    "\n",
    "    if system_name == \"Darwin\" :\n",
    "        font_family = \"AppleGothic\"\n",
    "    elif system_name == \"Windows\":\n",
    "        font_family = \"Malgun Gothic\"\n",
    "    else:\n",
    "        # Linux\n",
    "        !apt-get install fonts-nanum -qq  > /dev/null\n",
    "        !fc-cache -fv\n",
    "\n",
    "        import matplotlib as mpl\n",
    "        mpl.font_manager._rebuild()\n",
    "        findfont = mpl.font_manager.fontManager.findfont\n",
    "        mpl.font_manager.findfont = findfont\n",
    "        mpl.backends.backend_agg.findfont = findfont\n",
    "        \n",
    "        font_family = \"NanumBarunGothic\"\n",
    "    return font_family\n",
    "\n",
    "plt.rc(\"font\", family=get_font_family())"
   ]
  },
  {
   "cell_type": "code",
   "execution_count": null,
   "metadata": {
    "colab": {
     "base_uri": "https://localhost:8080/"
    },
    "id": "sxWqeTUMa5Lv",
    "outputId": "5f8b7778-18e3-41fc-9e75-a3f1c4c4932d"
   },
   "outputs": [
    {
     "name": "stdout",
     "output_type": "stream",
     "text": [
      "Selecting previously unselected package fonts-nanum-eco.\n",
      "(Reading database ... 155237 files and directories currently installed.)\n",
      "Preparing to unpack .../fonts-nanum-eco_1.000-6_all.deb ...\n",
      "Unpacking fonts-nanum-eco (1.000-6) ...\n",
      "Selecting previously unselected package fonts-nanum-extra.\n",
      "Preparing to unpack .../fonts-nanum-extra_20170925-1_all.deb ...\n",
      "Unpacking fonts-nanum-extra (20170925-1) ...\n",
      "Selecting previously unselected package fonts-nanum-coding.\n",
      "Preparing to unpack .../fonts-nanum-coding_2.5-1_all.deb ...\n",
      "Unpacking fonts-nanum-coding (2.5-1) ...\n",
      "Setting up fonts-nanum-extra (20170925-1) ...\n",
      "Setting up fonts-nanum-coding (2.5-1) ...\n",
      "Setting up fonts-nanum-eco (1.000-6) ...\n",
      "Processing triggers for fontconfig (2.12.6-0ubuntu2) ...\n"
     ]
    }
   ],
   "source": [
    "!apt-get update -qq\n",
    "!apt-get install fonts-nanum* -qq\n",
    "\n",
    "import matplotlib.font_manager as fm\n",
    "import warnings\n",
    "warnings.filterwarnings(action='ignore') \n",
    "\n",
    "path = '/usr/share/fonts/truetype/nanum/NanumGothic.ttf' # 나눔 고딕\n",
    "font_name = fm.FontProperties(fname=path, size=10).get_name() # 기본 폰트 사이즈 : 10\n",
    "plt.rc('font', family=font_name)\n",
    "fm._rebuild()"
   ]
  },
  {
   "cell_type": "code",
   "execution_count": null,
   "metadata": {
    "colab": {
     "base_uri": "https://localhost:8080/",
     "height": 279
    },
    "id": "70kiKSv4dzzI",
    "outputId": "2bb2f305-d998-43a7-bc1a-c987b48a6172"
   },
   "outputs": [
    {
     "data": {
      "image/png": "[encoded data removed]",
      "text/plain": [
       "<Figure size 432x288 with 1 Axes>"
      ]
     },
     "metadata": {
      "needs_background": "light"
     },
     "output_type": "display_data"
    }
   ],
   "source": [
    "# 슬라이싱을 통해 최근 7일 데이터만 그립니다.\n",
    "\n",
    "g = day_count[-7:].plot.bar(rot=0, title = \"최근 7일 확진자수\")\n",
    "\n",
    "for i in range(7):\n",
    "    case_count = day_count[-7:].iloc[i]\n",
    "    if case_count > 10:\n",
    "        g.text(x=i-0.2, y=case_count, s=case_count)"
   ]
  },
  {
   "cell_type": "code",
   "execution_count": null,
   "metadata": {
    "colab": {
     "base_uri": "https://localhost:8080/",
     "height": 279
    },
    "id": "RQqrBu-cZlPq",
    "outputId": "6d9e48f0-5784-4e3f-e31b-be9d0b262b31"
   },
   "outputs": [
    {
     "data": {
      "image/png": "[encoded data removed]",
      "text/plain": [
       "<Figure size 432x288 with 1 Axes>"
      ]
     },
     "metadata": {
      "needs_background": "light"
     },
     "output_type": "display_data"
    }
   ],
   "source": [
    "# 월별 확진자수에 대한 빈도수를 구해서 시각화 합니다.\n",
    "\n",
    "month_case = df[\"월\"].value_counts().sort_index()\n",
    "g = month_case.plot.bar(rot=0, title = \"월별 확진자수\")\n",
    "\n",
    "for i in range(len(month_case)):\n",
    "    g.text(x=i-0.2, y=month_case.iloc[i]+10, s=month_case.iloc[i])"
   ]
  },
  {
   "cell_type": "code",
   "execution_count": null,
   "metadata": {
    "colab": {
     "base_uri": "https://localhost:8080/",
     "height": 908
    },
    "id": "Gfbg2YuWm7jo",
    "outputId": "58a08fcd-3fd5-4bb3-9ab0-5003ef455953"
   },
   "outputs": [
    {
     "data": {
      "text/plain": [
       "서초구 소재 상가 관련               106\n",
       "강동구 소재 병원 관련('21.11.)      149\n",
       "중구 소재 시장 관련('21.9.)        295\n",
       "종로구 소재 시장 관련               304\n",
       "해외유입                       461\n",
       "송파구 소재 시장 관련('21.9.)       755\n",
       "병원 및 요양시설                  797\n",
       "타시도 확진자 접촉                1101\n",
       "감염경로 조사중                 26528\n",
       "기타 확진자 접촉                27837\n",
       "Name: 접촉력, dtype: int64"
      ]
     },
     "execution_count": 72,
     "metadata": {},
     "output_type": "execute_result"
    },
    {
     "data": {
      "image/png": "[encoded data removed]",
      "text/plain": [
       "<Figure size 720x864 with 1 Axes>"
      ]
     },
     "metadata": {
      "needs_background": "light"
     },
     "output_type": "display_data"
    }
   ],
   "source": [
    "# 접촉력 빈도수를 구합니다.\n",
    "contact_count = df[\"접촉력\"].value_counts()\n",
    "contact_count_top = contact_count.sort_values().tail(10)\n",
    "\n",
    "contact_count_top.plot.barh(figsize=(10, 12), title = \"주요 발생원인별 현황\")\n",
    "contact_count_top"
   ]
  }
 ],
 "metadata": {
  "colab": {
   "collapsed_sections": [],
   "name": "서울특별시 코로나 확진자 발생 동향 분석( 11/17)",
   "provenance": []
  },
  "kernelspec": {
   "display_name": "Python 3",
   "language": "python",
   "name": "python3"
  },
  "language_info": {
   "codemirror_mode": {
    "name": "ipython",
    "version": 3
   },
   "file_extension": ".py",
   "mimetype": "text/x-python",
   "name": "python",
   "nbconvert_exporter": "python",
   "pygments_lexer": "ipython3",
   "version": "3.8.8"
  }
 },
 "nbformat": 4,
 "nbformat_minor": 1
}
