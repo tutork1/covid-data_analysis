{
  "cells": [
    {
      "cell_type": "code",
      "execution_count": 129,
      "metadata": {
        "id": "jk4PsBiSF2vX"
      },
      "outputs": [],
      "source": [
        "import pandas as pd\n",
        "import numpy as np\n",
        "import matplotlib.pyplot as plt"
      ]
    },
    {
      "cell_type": "code",
      "execution_count": 130,
      "metadata": {
        "id": "1_OFTRfWxli6"
      },
      "outputs": [],
      "source": [
        "url= \"https://www.seoul.go.kr/coronaV/coronaStatus.do\""
      ]
    },
    {
      "cell_type": "code",
      "execution_count": 131,
      "metadata": {
        "colab": {
          "base_uri": "https://localhost:8080/",
          "height": 49
        },
        "id": "foH7vZwQyCFP",
        "outputId": "4e9b9c6b-0bf0-40f5-b7be-b052a6ff3cf5"
      },
      "outputs": [
        {
          "data": {
            "text/html": [
              "<div>\n",
              "<style scoped>\n",
              "    .dataframe tbody tr th:only-of-type {\n",
              "        vertical-align: middle;\n",
              "    }\n",
              "\n",
              "    .dataframe tbody tr th {\n",
              "        vertical-align: top;\n",
              "    }\n",
              "\n",
              "    .dataframe thead th {\n",
              "        text-align: right;\n",
              "    }\n",
              "</style>\n",
              "<table border=\"1\" class=\"dataframe\">\n",
              "  <thead>\n",
              "    <tr style=\"text-align: right;\">\n",
              "      <th></th>\n",
              "      <th>연번</th>\n",
              "      <th>환자</th>\n",
              "      <th>확진일</th>\n",
              "      <th>거주지</th>\n",
              "      <th>여행력</th>\n",
              "      <th>접촉력</th>\n",
              "      <th>퇴원현황</th>\n",
              "    </tr>\n",
              "  </thead>\n",
              "  <tbody>\n",
              "  </tbody>\n",
              "</table>\n",
              "</div>"
            ],
            "text/plain": [
              "Empty DataFrame\n",
              "Columns: [연번, 환자, 확진일, 거주지, 여행력, 접촉력, 퇴원현황]\n",
              "Index: []"
            ]
          },
          "execution_count": 131,
          "metadata": {},
          "output_type": "execute_result"
        }
      ],
      "source": [
        "# read_html 은 사이트 내의 html 태그를 불러옵니다.\n",
        "table = pd.read_html(url)\n",
        "\n",
        "# table 변수 안에 있는 table 태그의 값을 하나씩 읽어보며 확진자 목록이 있는 테이블을 가져옵니다.\n",
        "df=table[5]\n",
        "df"
      ]
    },
    {
      "cell_type": "code",
      "execution_count": 132,
      "metadata": {
        "id": "ZgEXtxA6uXWr"
      },
      "outputs": [],
      "source": [
        "import requests\n",
        "url= \"https://news.seoul.go.kr/api/27/getCorona19Status/get_status_ajax.php?draw=1&columns[0][data]=0\"\n",
        "#url= f\"{url}&columns[0][name]=&columns[0][searchable]=true&columns[0][orderable]=true&columns[0][search][value]=&columns[0][search][regex]=false&columns[1][data]=1&columns[1][name]=&columns[1][searchable]=true&columns[1][orderable]=true&columns[1][search][value]=&columns[1][search][regex]=false&columns[2][data]=2&columns[2][name]=&columns[2][searchable]=true&columns[2][orderable]=true&columns[2][search][value]=&columns[2][search][regex]=false&columns[3][data]=3&columns[3][name]=&columns[3][searchable]=true&columns[3][orderable]=true&columns[3][search][value]=&columns[3][search][regex]=false&columns[4][data]=4&columns[4][name]=&columns[4][searchable]=true&columns[4][orderable]=true&columns[4][search][value]=&columns[4][search][regex]=false&columns[5][data]=5&columns[5][name]=&columns[5][searchable]=true&columns[5][orderable]=true&columns[5][search][value]=&columns[5][search][regex]=false&columns[6][data]=6&columns[6][name]=&columns[6][searchable]=true&columns[6][orderable]=true&columns[6][search][value]=&columns[6][search][regex]=false&order[0][column]=0&order[0][dir]=desc&start=0&length=100&search[value]=&search[regex]=true&_=1634131509151\"\n",
        "url = f\"{url}&start=100&length=100&search%5Bvalue%5D=&search%5Bregex%5D=true&_=1634131509153\"\n",
        "\n",
        "response=requests.get(url)"
      ]
    },
    {
      "cell_type": "code",
      "execution_count": 133,
      "metadata": {
        "id": "hhMhfk3Ru3kb"
      },
      "outputs": [],
      "source": [
        "data_json=response.json()"
      ]
    },
    {
      "cell_type": "code",
      "execution_count": 134,
      "metadata": {
        "id": "esF2G95KvPAg"
      },
      "outputs": [],
      "source": [
        "import time\n",
        "from tqdm import trange"
      ]
    },
    {
      "cell_type": "code",
      "execution_count": 135,
      "metadata": {
        "id": "Tp3knB6IvduR"
      },
      "outputs": [],
      "source": [
        "def get_seoul_covid19_100001_currnet(page_no):\n",
        "  ''' \n",
        "  page no: 입력값으로 페이지 번호를 입력하면 해당 번호의 데이터를 가져옴\n",
        "  start no: 입력받은  page_no로\n",
        "  '''\n",
        "  start_no=(page_no-1)*100\n",
        "  url= f\"https://news.seoul.go.kr/api/27/getCorona19Status/get_status_ajax.php?draw{page_no}\"\n",
        "  #url= f\"{url}&columns[0][name]=&columns[0][searchable]=true&columns[0][orderable]=true&columns[0][search][value]=&columns[0][search][regex]=false&columns[1][data]=1&columns[1][name]=&columns[1][searchable]=true&columns[1][orderable]=true&columns[1][search][value]=&columns[1][search][regex]=false&columns[2][data]=2&columns[2][name]=&columns[2][searchable]=true&columns[2][orderable]=true&columns[2][search][value]=&columns[2][search][regex]=false&columns[3][data]=3&columns[3][name]=&columns[3][searchable]=true&columns[3][orderable]=true&columns[3][search][value]=&columns[3][search][regex]=false&columns[4][data]=4&columns[4][name]=&columns[4][searchable]=true&columns[4][orderable]=true&columns[4][search][value]=&columns[4][search][regex]=false&columns[5][data]=5&columns[5][name]=&columns[5][searchable]=true&columns[5][orderable]=true&columns[5][search][value]=&columns[5][search][regex]=false&columns[6][data]=6&columns[6][name]=&columns[6][searchable]=true&columns[6][orderable]=true&columns[6][search][value]=&columns[6][search][regex]=false&order[0][column]=0&order[0][dir]=desc&start=0&length=100&search[value]=&search[regex]=true&_=1634131509151\"\n",
        "  url = f\"{url}&order%5B0%5D%5Bdir%5D=desc&start={start_no}&length=100\"\n",
        "  \n",
        "  response=requests.get(url)\n",
        "  data_json = response.json()\n",
        "  return data_json\n"
      ]
    },
    {
      "cell_type": "code",
      "execution_count": 136,
      "metadata": {
        "id": "BAtooMaQ0wFc"
      },
      "outputs": [],
      "source": [
        "def get_multi_page_list_100001_currnet(start_page,end_page=80):\n",
        "\n",
        "  page_list=[]\n",
        "  for page_no in trange(start_page,end_page+1):\n",
        "    one_page_data_json =get_seoul_covid19_100001_currnet(page_no)\n",
        "    if len(one_page_data_json[\"data\"])>0:\n",
        "        one_page_df =pd.DataFrame(one_page_data_json[\"data\"])\n",
        "        page_list.append(one_page_df)\n",
        "        time.sleep(0.5)\n",
        "    else:\n",
        "      return page_list\n",
        "  \n",
        "  return page_list\n",
        "\n"
      ]
    },
    {
      "cell_type": "code",
      "execution_count": 137,
      "metadata": {
        "colab": {
          "base_uri": "https://localhost:8080/",
          "height": 221
        },
        "id": "HgILBFTPIZTN",
        "outputId": "07456ab8-e5e6-4bc0-e612-beb95e3ffc0e"
      },
      "outputs": [
        {
          "name": "stderr",
          "output_type": "stream",
          "text": [
            "100%|██████████| 61/61 [00:54<00:00,  1.12it/s]\n"
          ]
        },
        {
          "data": {
            "text/html": [
              "<div>\n",
              "<style scoped>\n",
              "    .dataframe tbody tr th:only-of-type {\n",
              "        vertical-align: middle;\n",
              "    }\n",
              "\n",
              "    .dataframe tbody tr th {\n",
              "        vertical-align: top;\n",
              "    }\n",
              "\n",
              "    .dataframe thead th {\n",
              "        text-align: right;\n",
              "    }\n",
              "</style>\n",
              "<table border=\"1\" class=\"dataframe\">\n",
              "  <thead>\n",
              "    <tr style=\"text-align: right;\">\n",
              "      <th></th>\n",
              "      <th>연번</th>\n",
              "      <th>환자</th>\n",
              "      <th>확진일</th>\n",
              "      <th>거주지</th>\n",
              "      <th>여행력</th>\n",
              "      <th>접촉력</th>\n",
              "      <th>퇴원현황</th>\n",
              "    </tr>\n",
              "  </thead>\n",
              "  <tbody>\n",
              "    <tr>\n",
              "      <th>0</th>\n",
              "      <td>&lt;p class='corona19_no'&gt;134948&lt;/p&gt;</td>\n",
              "      <td>402571</td>\n",
              "      <td>2021-11-16</td>\n",
              "      <td>송파구</td>\n",
              "      <td>-</td>\n",
              "      <td>감염경로 조사중</td>\n",
              "      <td>&lt;b class=''&gt;-&lt;/b&gt;</td>\n",
              "    </tr>\n",
              "    <tr>\n",
              "      <th>1</th>\n",
              "      <td>&lt;p class='corona19_no'&gt;134947&lt;/p&gt;</td>\n",
              "      <td>402570</td>\n",
              "      <td>2021-11-16</td>\n",
              "      <td>송파구</td>\n",
              "      <td>-</td>\n",
              "      <td>감염경로 조사중</td>\n",
              "      <td>&lt;b class=''&gt;-&lt;/b&gt;</td>\n",
              "    </tr>\n",
              "    <tr>\n",
              "      <th>2</th>\n",
              "      <td>&lt;p class='corona19_no'&gt;134946&lt;/p&gt;</td>\n",
              "      <td>402529</td>\n",
              "      <td>2021-11-16</td>\n",
              "      <td>성동구</td>\n",
              "      <td>-</td>\n",
              "      <td>기타 확진자 접촉</td>\n",
              "      <td>&lt;b class=''&gt;-&lt;/b&gt;</td>\n",
              "    </tr>\n",
              "    <tr>\n",
              "      <th>3</th>\n",
              "      <td>&lt;p class='corona19_no'&gt;134945&lt;/p&gt;</td>\n",
              "      <td>402402</td>\n",
              "      <td>2021-11-16</td>\n",
              "      <td>타시도</td>\n",
              "      <td>-</td>\n",
              "      <td>감염경로 조사중</td>\n",
              "      <td>&lt;b class=''&gt;-&lt;/b&gt;</td>\n",
              "    </tr>\n",
              "    <tr>\n",
              "      <th>4</th>\n",
              "      <td>&lt;p class='corona19_no'&gt;134944&lt;/p&gt;</td>\n",
              "      <td>402324</td>\n",
              "      <td>2021-11-16</td>\n",
              "      <td>타시도</td>\n",
              "      <td>-</td>\n",
              "      <td>감염경로 조사중</td>\n",
              "      <td>&lt;b class=''&gt;-&lt;/b&gt;</td>\n",
              "    </tr>\n",
              "  </tbody>\n",
              "</table>\n",
              "</div>"
            ],
            "text/plain": [
              "                                  연번      환자         확진일  거주지 여행력        접촉력  \\\n",
              "0  <p class='corona19_no'>134948</p>  402571  2021-11-16  송파구   -   감염경로 조사중   \n",
              "1  <p class='corona19_no'>134947</p>  402570  2021-11-16  송파구   -   감염경로 조사중   \n",
              "2  <p class='corona19_no'>134946</p>  402529  2021-11-16  성동구   -  기타 확진자 접촉   \n",
              "3  <p class='corona19_no'>134945</p>  402402  2021-11-16  타시도   -   감염경로 조사중   \n",
              "4  <p class='corona19_no'>134944</p>  402324  2021-11-16  타시도   -   감염경로 조사중   \n",
              "\n",
              "                퇴원현황  \n",
              "0  <b class=''>-</b>  \n",
              "1  <b class=''>-</b>  \n",
              "2  <b class=''>-</b>  \n",
              "3  <b class=''>-</b>  \n",
              "4  <b class=''>-</b>  "
            ]
          },
          "execution_count": 137,
          "metadata": {},
          "output_type": "execute_result"
        }
      ],
      "source": [
        "start_page=1\n",
        "end_page= 61\n",
        "\n",
        "page_list= get_multi_page_list_100001_currnet(start_page, end_page) \n",
        "df_all_10001_current=pd.concat(page_list)\n",
        "\n",
        "df_all_10001_current.columns = table[5].columns.tolist()\n",
        "df_all_10001_current.head()"
      ]
    },
    {
      "cell_type": "code",
      "execution_count": 138,
      "metadata": {
        "id": "U43NwpL4I6om"
      },
      "outputs": [],
      "source": [
        "df_all=pd.concat(page_list)"
      ]
    },
    {
      "cell_type": "code",
      "execution_count": 139,
      "metadata": {
        "id": "PZkVSGzj6qDL"
      },
      "outputs": [],
      "source": [
        "cols = df.columns.tolist()"
      ]
    },
    {
      "cell_type": "code",
      "execution_count": 140,
      "metadata": {
        "id": "xqU86ph6Jwl_"
      },
      "outputs": [],
      "source": [
        "df_all.columns = cols"
      ]
    },
    {
      "cell_type": "code",
      "execution_count": 141,
      "metadata": {
        "id": "h-GnrnTmJ8m5"
      },
      "outputs": [],
      "source": [
        "import re\n",
        "def extract_number(num_string):\n",
        "  if type(num_string)==str:\n",
        "    num_string=num_string.replace(\"corona19\",\"\")\n",
        "    num=re.sub(\"[^0-9]\",\"\",num_string)\n",
        "    num=int(num)\n",
        "    return num\n",
        "  else:\n",
        "    return num_string"
      ]
    },
    {
      "cell_type": "code",
      "execution_count": 142,
      "metadata": {
        "colab": {
          "base_uri": "https://localhost:8080/"
        },
        "id": "mYM39S3gKpZj",
        "outputId": "d1d78a46-399f-41ee-acee-580522a8a28c"
      },
      "outputs": [],
      "source": [
        "num_string =\"<p class='corona19_no'>109940</p>\""
      ]
    },
    {
      "cell_type": "code",
      "execution_count": 143,
      "metadata": {
        "id": "v-KryNPAl0DG"
      },
      "outputs": [],
      "source": [
        "df_all[\"연번\"]=df_all[\"연번\"].map(extract_number)"
      ]
    },
    {
      "cell_type": "code",
      "execution_count": 144,
      "metadata": {
        "id": "bDK1uweSLANR"
      },
      "outputs": [],
      "source": [
        "def extract_hangeul(origin_text):\n",
        "  subtract_text=re.sub(\"[^가-힣]\",\"\",origin_text)\n",
        "  return subtract_text"
      ]
    },
    {
      "cell_type": "code",
      "execution_count": 145,
      "metadata": {
        "colab": {
          "base_uri": "https://localhost:8080/",
          "height": 35
        },
        "id": "c1KqwyDMLi8t",
        "outputId": "4d568b05-d2d7-4ace-caf9-0861303dfe72"
      },
      "outputs": [
        {
          "data": {
            "text/plain": [
              "'기타'"
            ]
          },
          "execution_count": 145,
          "metadata": {},
          "output_type": "execute_result"
        }
      ],
      "source": [
        "extract_hangeul(\"<b class='status1'>기타</b>\")"
      ]
    },
    {
      "cell_type": "code",
      "execution_count": 146,
      "metadata": {
        "colab": {
          "base_uri": "https://localhost:8080/",
          "height": 35
        },
        "id": "rrjooLrDLteI",
        "outputId": "4464d63e-133e-48a1-886a-8a6c2e3d02ac"
      },
      "outputs": [
        {
          "data": {
            "text/plain": [
              "'퇴원'"
            ]
          },
          "execution_count": 146,
          "metadata": {},
          "output_type": "execute_result"
        }
      ],
      "source": [
        "extract_hangeul(\"<b class='status1'>퇴원</b>\")"
      ]
    },
    {
      "cell_type": "code",
      "execution_count": 147,
      "metadata": {
        "colab": {
          "base_uri": "https://localhost:8080/",
          "height": 35
        },
        "id": "MfCV-H-9LyOy",
        "outputId": "13d37020-6367-466c-de6c-8ba4db536585"
      },
      "outputs": [
        {
          "data": {
            "text/plain": [
              "''"
            ]
          },
          "execution_count": 147,
          "metadata": {},
          "output_type": "execute_result"
        }
      ],
      "source": [
        "extract_hangeul(\"<b class=''></b>\")"
      ]
    },
    {
      "cell_type": "code",
      "execution_count": 148,
      "metadata": {
        "colab": {
          "base_uri": "https://localhost:8080/"
        },
        "id": "gizbsUO-M5wo",
        "outputId": "a276f5fa-ceed-4721-f11c-af31db440512"
      },
      "outputs": [
        {
          "data": {
            "text/plain": [
              "<bound method NDFrame._add_numeric_operations.<locals>.all of Empty DataFrame\n",
              "Columns: [연번, 환자, 확진일, 거주지, 여행력, 접촉력, 퇴원현황]\n",
              "Index: []>"
            ]
          },
          "execution_count": 148,
          "metadata": {},
          "output_type": "execute_result"
        }
      ],
      "source": [
        "df.all"
      ]
    },
    {
      "cell_type": "code",
      "execution_count": 149,
      "metadata": {
        "colab": {
          "base_uri": "https://localhost:8080/"
        },
        "id": "rOyHGG7HMTrF",
        "outputId": "f9cec6e1-0535-4d04-e97e-6c17382f5b43"
      },
      "outputs": [
        {
          "data": {
            "text/plain": [
              "<b class=''>-</b>            4193\n",
              "<b class='status1'>-</b>     1495\n",
              "<b class='status2'>-</b>      332\n",
              "<b class='status1'>퇴원</b>      64\n",
              "<b class='status2'>사망</b>      16\n",
              "Name: 퇴원현황, dtype: int64"
            ]
          },
          "execution_count": 149,
          "metadata": {},
          "output_type": "execute_result"
        }
      ],
      "source": [
        "df_all[\"퇴원현황\"].value_counts()"
      ]
    },
    {
      "cell_type": "code",
      "execution_count": 150,
      "metadata": {
        "colab": {
          "base_uri": "https://localhost:8080/"
        },
        "id": "3_v69QZQOeeY",
        "outputId": "70ca106f-3394-435a-97b2-6135696a96c0"
      },
      "outputs": [
        {
          "data": {
            "text/plain": [
              "퇴원    64\n",
              "사망    16\n",
              "Name: 퇴원현황, dtype: int64"
            ]
          },
          "execution_count": 150,
          "metadata": {},
          "output_type": "execute_result"
        }
      ],
      "source": [
        "df_all.loc[df_all[\"퇴원현황\"].str.contains(\"퇴원\"),\"퇴원현황\"]=\"퇴원\"\n",
        "df_all.loc[df_all[\"퇴원현황\"].str.contains(\"사망\"),\"퇴원현황\"]=\"사망\"\n",
        "df_all.loc[~df_all[\"퇴원현황\"].str.contains(\"퇴원|사망\"),\"퇴원현황\"] = np.nan\n",
        "df_all[\"퇴원현황\"].value_counts()"
      ]
    },
    {
      "cell_type": "code",
      "execution_count": 151,
      "metadata": {
        "colab": {
          "base_uri": "https://localhost:8080/"
        },
        "id": "DlYs28_t6bVa",
        "outputId": "3bcd3c61-83ff-48a1-f809-fe0073a5cbeb"
      },
      "outputs": [
        {
          "data": {
            "text/plain": [
              "0     NaN\n",
              "1     NaN\n",
              "2     NaN\n",
              "3     NaN\n",
              "4     NaN\n",
              "     ... \n",
              "95    NaN\n",
              "96    NaN\n",
              "97    NaN\n",
              "98    NaN\n",
              "99    NaN\n",
              "Name: 퇴원현황, Length: 6100, dtype: object"
            ]
          },
          "execution_count": 151,
          "metadata": {},
          "output_type": "execute_result"
        }
      ],
      "source": [
        "df_all[\"퇴원현황\"]"
      ]
    },
    {
      "cell_type": "code",
      "execution_count": 152,
      "metadata": {
        "colab": {
          "base_uri": "https://localhost:8080/",
          "height": 35
        },
        "id": "zZCa4bkkO5Ig",
        "outputId": "a4e80b39-976a-4004-92c6-7650bf4ded21"
      },
      "outputs": [
        {
          "data": {
            "text/plain": [
              "'2021-11-16'"
            ]
          },
          "execution_count": 152,
          "metadata": {},
          "output_type": "execute_result"
        }
      ],
      "source": [
        "last_date = df_all.iloc[0][\"확진일\"]\n",
        "last_date"
      ]
    },
    {
      "cell_type": "code",
      "execution_count": 153,
      "metadata": {
        "colab": {
          "base_uri": "https://localhost:8080/",
          "height": 35
        },
        "id": "ZHLd5_REPB-a",
        "outputId": "1024b0b1-736f-4a8e-c936-4b4562036cbc"
      },
      "outputs": [
        {
          "data": {
            "text/plain": [
              "'2021-11-16'"
            ]
          },
          "execution_count": 153,
          "metadata": {},
          "output_type": "execute_result"
        }
      ],
      "source": [
        "#마지막 확진일을 파일명에 써주기 위해.을 _로 변경합니다.\n",
        "#확장자와 구분이 쉽게 되도록 _로 변경합니다\n",
        "\n",
        "date=last_date.replace(\".\",\"_\")\n",
        "date"
      ]
    },
    {
      "cell_type": "code",
      "execution_count": 154,
      "metadata": {
        "colab": {
          "base_uri": "https://localhost:8080/",
          "height": 35
        },
        "id": "7Lod93dHPRyS",
        "outputId": "40be1f14-a81d-40fc-a60a-5b0c09f139ed"
      },
      "outputs": [
        {
          "data": {
            "text/plain": [
              "'seoul-covid19-2021-11-16.csv'"
            ]
          },
          "execution_count": 154,
          "metadata": {},
          "output_type": "execute_result"
        }
      ],
      "source": [
        "#파일명을 만들어 줍니다.\n",
        "#file_name\n",
        "\n",
        "file_name = f\"seoul-covid19-{date}.csv\"\n",
        "file_name"
      ]
    },
    {
      "cell_type": "code",
      "execution_count": 155,
      "metadata": {
        "id": "G1zPlnAVPfKQ"
      },
      "outputs": [],
      "source": [
        "#csv파일로 저장합니다.\n",
        "df_all.to_csv(file_name,index=False)"
      ]
    },
    {
      "cell_type": "code",
      "execution_count": 156,
      "metadata": {
        "colab": {
          "base_uri": "https://localhost:8080/",
          "height": 203
        },
        "id": "xBY2ncTYPnMi",
        "outputId": "ef60df36-9d5e-4fc2-b0b8-1cd60614e2ee"
      },
      "outputs": [
        {
          "data": {
            "text/plain": [
              "0      2021-11-16\n",
              "1      2021-11-16\n",
              "2      2021-11-16\n",
              "3      2021-11-16\n",
              "4      2021-11-16\n",
              "          ...    \n",
              "6095   2021-11-10\n",
              "6096   2021-11-10\n",
              "6097   2021-11-10\n",
              "6098   2021-11-10\n",
              "6099   2021-11-10\n",
              "Name: 확진일, Length: 6100, dtype: datetime64[ns]"
            ]
          },
          "execution_count": 156,
          "metadata": {},
          "output_type": "execute_result"
        }
      ],
      "source": [
        "#제대로 저장되었는지 확인합니다.\n",
        "df = pd.read_csv(file_name, encoding=\"utf-8\")\n",
        "df[\"확진일\"] = pd.to_datetime(df[\"확진일\"])\n",
        "df[\"확진일\"]"
      ]
    },
    {
      "cell_type": "code",
      "execution_count": 157,
      "metadata": {
        "colab": {
          "base_uri": "https://localhost:8080/",
          "height": 238
        },
        "id": "bCsneiy5WoQG",
        "outputId": "547712d6-e055-439a-ad45-1dfe9e43bc51"
      },
      "outputs": [
        {
          "name": "stderr",
          "output_type": "stream",
          "text": [
            "C:\\Users\\yunki\\AppData\\Local\\Temp/ipykernel_13664/2097180841.py:4: FutureWarning: Series.dt.weekofyear and Series.dt.week have been deprecated.  Please use Series.dt.isocalendar().week instead.\n",
            "  df[\"주\"] = df[\"확진일\"].dt.week\n"
          ]
        },
        {
          "data": {
            "text/html": [
              "<div>\n",
              "<style scoped>\n",
              "    .dataframe tbody tr th:only-of-type {\n",
              "        vertical-align: middle;\n",
              "    }\n",
              "\n",
              "    .dataframe tbody tr th {\n",
              "        vertical-align: top;\n",
              "    }\n",
              "\n",
              "    .dataframe thead th {\n",
              "        text-align: right;\n",
              "    }\n",
              "</style>\n",
              "<table border=\"1\" class=\"dataframe\">\n",
              "  <thead>\n",
              "    <tr style=\"text-align: right;\">\n",
              "      <th></th>\n",
              "      <th>월</th>\n",
              "      <th>주</th>\n",
              "    </tr>\n",
              "  </thead>\n",
              "  <tbody>\n",
              "    <tr>\n",
              "      <th>0</th>\n",
              "      <td>11</td>\n",
              "      <td>46</td>\n",
              "    </tr>\n",
              "    <tr>\n",
              "      <th>1</th>\n",
              "      <td>11</td>\n",
              "      <td>46</td>\n",
              "    </tr>\n",
              "    <tr>\n",
              "      <th>2</th>\n",
              "      <td>11</td>\n",
              "      <td>46</td>\n",
              "    </tr>\n",
              "    <tr>\n",
              "      <th>3</th>\n",
              "      <td>11</td>\n",
              "      <td>46</td>\n",
              "    </tr>\n",
              "    <tr>\n",
              "      <th>4</th>\n",
              "      <td>11</td>\n",
              "      <td>46</td>\n",
              "    </tr>\n",
              "    <tr>\n",
              "      <th>...</th>\n",
              "      <td>...</td>\n",
              "      <td>...</td>\n",
              "    </tr>\n",
              "    <tr>\n",
              "      <th>6095</th>\n",
              "      <td>11</td>\n",
              "      <td>45</td>\n",
              "    </tr>\n",
              "    <tr>\n",
              "      <th>6096</th>\n",
              "      <td>11</td>\n",
              "      <td>45</td>\n",
              "    </tr>\n",
              "    <tr>\n",
              "      <th>6097</th>\n",
              "      <td>11</td>\n",
              "      <td>45</td>\n",
              "    </tr>\n",
              "    <tr>\n",
              "      <th>6098</th>\n",
              "      <td>11</td>\n",
              "      <td>45</td>\n",
              "    </tr>\n",
              "    <tr>\n",
              "      <th>6099</th>\n",
              "      <td>11</td>\n",
              "      <td>45</td>\n",
              "    </tr>\n",
              "  </tbody>\n",
              "</table>\n",
              "<p>6100 rows × 2 columns</p>\n",
              "</div>"
            ],
            "text/plain": [
              "       월   주\n",
              "0     11  46\n",
              "1     11  46\n",
              "2     11  46\n",
              "3     11  46\n",
              "4     11  46\n",
              "...   ..  ..\n",
              "6095  11  45\n",
              "6096  11  45\n",
              "6097  11  45\n",
              "6098  11  45\n",
              "6099  11  45\n",
              "\n",
              "[6100 rows x 2 columns]"
            ]
          },
          "execution_count": 157,
          "metadata": {},
          "output_type": "execute_result"
        }
      ],
      "source": [
        "# 월,주를 추출합니다.\n",
        "\n",
        "df[\"월\"] = df[\"확진일\"].dt.month\n",
        "df[\"주\"] = df[\"확진일\"].dt.week\n",
        "df[[\"월\", \"주\"]]"
      ]
    },
    {
      "cell_type": "code",
      "execution_count": 158,
      "metadata": {
        "id": "TTxqpQmiW98u"
      },
      "outputs": [],
      "source": [
        "# 일자별 확진자수를 선그래프로 그립니다.\n",
        "# 월일만 표기되도록 슬라이싱을 사용해 \"월일\" 컬럼을 만듭니다.\n",
        "df[\"월일\"] = df[\"확진일\"].astype(str).map(lambda x : x[-5:])\n",
        "day_count = df[\"월일\"].value_counts().sort_index()"
      ]
    },
    {
      "cell_type": "code",
      "execution_count": 159,
      "metadata": {
        "colab": {
          "base_uri": "https://localhost:8080/",
          "height": 320
        },
        "id": "k_5TwVaCdoDB",
        "outputId": "31b58dd1-2f99-45d7-f9fb-d6b7e98d99c6"
      },
      "outputs": [
        {
          "data": {
            "image/png": "[encoded data removed]",
            "text/plain": [
              "<Figure size 1080x360 with 1 Axes>"
            ]
          },
          "metadata": {
            "needs_background": "light"
          },
          "output_type": "display_data"
        }
      ],
      "source": [
        "g = day_count.plot(figsize=(15, 5))\n",
        "\n",
        "for i in range(len(day_count)):\n",
        "    case_count = day_count.iloc[i]\n",
        "    if case_count > 20:\n",
        "        g.text(x=i, y=case_count, s=case_count)"
      ]
    },
    {
      "cell_type": "code",
      "execution_count": 160,
      "metadata": {
        "colab": {
          "base_uri": "https://localhost:8080/"
        },
        "id": "FItPFcbF0PV9",
        "outputId": "2dd458db-fea3-4567-b3f9-9dc2e1a163de"
      },
      "outputs": [],
      "source": [
        "#한글폰트 설정\n",
        "\n",
        "def get_font_family():\n",
        "    \"\"\"\n",
        "    시스템 환경에 따른 기본 폰트명을 반환하는 함수\n",
        "    \"\"\"\n",
        "    import platform\n",
        "    system_name = platform.system()\n",
        "    # colab 사용자는 system_name이 'Linux'로 확인\n",
        "\n",
        "    if system_name == \"Darwin\" :\n",
        "        font_family = \"AppleGothic\"\n",
        "    elif system_name == \"Windows\":\n",
        "        font_family = \"Malgun Gothic\"\n",
        "    else:\n",
        "        # Linux\n",
        "        !apt-get install fonts-nanum -qq  > /dev/null\n",
        "        !fc-cache -fv\n",
        "\n",
        "        import matplotlib as mpl\n",
        "        mpl.font_manager._rebuild()\n",
        "        findfont = mpl.font_manager.fontManager.findfont\n",
        "        mpl.font_manager.findfont = findfont\n",
        "        mpl.backends.backend_agg.findfont = findfont\n",
        "        \n",
        "        font_family = \"NanumBarunGothic\"\n",
        "    return font_family\n",
        "\n",
        "plt.rc(\"font\", family=get_font_family())"
      ]
    },
    {
      "cell_type": "code",
      "execution_count": 170,
      "metadata": {
        "colab": {
          "base_uri": "https://localhost:8080/",
          "height": 265
        },
        "id": "70kiKSv4dzzI",
        "outputId": "8f4b37be-393f-4bbb-abc5-5c333f2f2d92"
      },
      "outputs": [
        {
          "data": {
            "image/png": "[encoded data removed]",
            "text/plain": [
              "<Figure size 432x288 with 1 Axes>"
            ]
          },
          "metadata": {
            "needs_background": "light"
          },
          "output_type": "display_data"
        }
      ],
      "source": [
        "# 슬라이싱을 통해 최근 7일 데이터만 그립니다.\n",
        "\n",
        "\n",
        "g = day_count[-7:].plot.bar(rot=0)\n",
        "today = day_count[-1:]\n",
        "for i in range(7):\n",
        "    case_count = day_count[-7:].iloc[i]\n",
        "    if case_count > 10:\n",
        "        g.text(x=i-0.2, y=case_count, s=case_count)"
      ]
    },
    {
      "cell_type": "code",
      "execution_count": 172,
      "metadata": {},
      "outputs": [
        {
          "data": {
            "text/plain": [
              "11-16    1436\n",
              "Name: 월일, dtype: int64"
            ]
          },
          "execution_count": 172,
          "metadata": {},
          "output_type": "execute_result"
        }
      ],
      "source": [
        "today = day_count[-1:]\n",
        "today"
      ]
    },
    {
      "cell_type": "code",
      "execution_count": 162,
      "metadata": {
        "colab": {
          "base_uri": "https://localhost:8080/",
          "height": 265
        },
        "id": "RQqrBu-cZlPq",
        "outputId": "16e7147e-65d6-4be3-cd2c-c82597aaeac9"
      },
      "outputs": [
        {
          "data": {
            "image/png": "[encoded data removed]",
            "text/plain": [
              "<Figure size 432x288 with 1 Axes>"
            ]
          },
          "metadata": {
            "needs_background": "light"
          },
          "output_type": "display_data"
        }
      ],
      "source": [
        "# 월별 확진자수에 대한 빈도수를 구해서 시각화 합니다.\n",
        "\n",
        "month_case = df[\"월\"].value_counts().sort_index()\n",
        "g = month_case.plot.bar(rot=0)\n",
        "\n",
        "for i in range(len(month_case)):\n",
        "    g.text(x=i-0.2, y=month_case.iloc[i]+10, s=month_case.iloc[i])"
      ]
    },
    {
      "cell_type": "code",
      "execution_count": 163,
      "metadata": {
        "colab": {
          "base_uri": "https://localhost:8080/",
          "height": 475
        },
        "id": "F0fhq6G8Yx-h",
        "outputId": "a154e7c4-1347-46d7-98dd-1a15d2d44030"
      },
      "outputs": [
        {
          "data": {
            "text/plain": [
              "<AxesSubplot:xlabel='일자'>"
            ]
          },
          "execution_count": 163,
          "metadata": {},
          "output_type": "execute_result"
        },
        {
          "data": {
            "image/png": "[encoded data removed]",
            "text/plain": [
              "<Figure size 720x360 with 1 Axes>"
            ]
          },
          "metadata": {
            "needs_background": "light"
          },
          "output_type": "display_data"
        }
      ],
      "source": [
        "# 첫 확진일 부터 마지막 확진일까지 가져옵니다.\n",
        "# 데이터프레임의 첫번째 날짜는 first_day 에 마지막 날짜는 last_day 에 담습니다.\n",
        "first_day = df.iloc[-1, 2]\n",
        "last_day = df.iloc[0, 2]\n",
        "\n",
        "# pd.date_range 를 통해 시작하는 날짜부터 끝나는 날짜까지의 \n",
        "# DatetimeIndex 를 만들고 days 라는 변수에 저장합니다.\n",
        "days = pd.date_range(first_day, last_day)\n",
        "\n",
        "# days 변수의 값으로 \"연월일\" 이라는 컬럼이름을 갖는 데이터프레임을 만듭니다.\n",
        "# days.to_frame()\n",
        "df_days =  pd.DataFrame({\"확진일자\": days})\n",
        "\n",
        "# 확진일자별로 빈도수 구하기\n",
        "daily_case = df[\"확진일\"].value_counts()\n",
        "\n",
        "# 확진일자별로 빈도수 구한 내용을 데이터프레임으로 변환하기\n",
        "df_daily_case = daily_case.to_frame()\n",
        "\n",
        "# value_counts 결과의 컬럼명을 \"확진수\" 로 바꾸기\n",
        "df_daily_case.columns = [\"확진수\"]\n",
        "\n",
        "# 확진자가 없는 날도 일자에 표현이 되도록 전체 일자와 확진 데이터를 merge 로 합쳐줍니다.\n",
        "# 1321\n",
        "all_day = df_days.merge(df_daily_case, \n",
        "                        left_on=\"확진일자\", \n",
        "                        right_on=df_daily_case.index, how=\"left\")\n",
        "\n",
        "# 확진수를 fillna를 통해 결측치를 0으로 채워주고 누적해서 더해줍니다.\n",
        "all_day[\"누적확진\"] = all_day[\"확진수\"].fillna(0).cumsum()\n",
        "\n",
        "# 연도를 제외하고 월-일로 \"일자\" 컬럼 만들기\n",
        "\n",
        "all_day[\"일자\"] = all_day[\"확진일자\"].astype(str).map(lambda x : x[-5:])\n",
        "\n",
        "# \"확진수\", \"누적확진\" 컬럼을 갖는 데이터프레임을 만듭니다.\n",
        "cum_day = all_day[[\"일자\", \"확진수\", \"누적확진\"]]\n",
        "cum_day = cum_day.set_index(\"일자\")\n",
        "\n",
        "#누적확진 그래프\n",
        "cum_day[\"누적확진\"].plot(figsize=(10, 5))"
      ]
    },
    {
      "cell_type": "code",
      "execution_count": 164,
      "metadata": {
        "colab": {
          "base_uri": "https://localhost:8080/",
          "height": 203
        },
        "id": "pncEqQcLOrb-",
        "outputId": "283a7be4-a371-4596-ccf0-775f6116bb5d"
      },
      "outputs": [
        {
          "data": {
            "text/html": [
              "<style type=\"text/css\">\n",
              "#T_c3ab1_row0_col0, #T_c3ab1_row0_col1, #T_c3ab1_row0_col2, #T_c3ab1_row0_col3, #T_c3ab1_row0_col4, #T_c3ab1_row0_col5, #T_c3ab1_row0_col6 {\n",
              "  background-color: #f7fbff;\n",
              "  color: #000000;\n",
              "}\n",
              "</style>\n",
              "<table id=\"T_c3ab1_\">\n",
              "  <thead>\n",
              "    <tr>\n",
              "      <th class=\"blank level0\" >&nbsp;</th>\n",
              "      <th class=\"col_heading level0 col0\" >월</th>\n",
              "      <th class=\"col_heading level0 col1\" >화</th>\n",
              "      <th class=\"col_heading level0 col2\" >수</th>\n",
              "      <th class=\"col_heading level0 col3\" >목</th>\n",
              "      <th class=\"col_heading level0 col4\" >금</th>\n",
              "      <th class=\"col_heading level0 col5\" >토</th>\n",
              "      <th class=\"col_heading level0 col6\" >일</th>\n",
              "    </tr>\n",
              "    <tr>\n",
              "      <th class=\"index_name level0\" >확진월</th>\n",
              "      <th class=\"blank col0\" >&nbsp;</th>\n",
              "      <th class=\"blank col1\" >&nbsp;</th>\n",
              "      <th class=\"blank col2\" >&nbsp;</th>\n",
              "      <th class=\"blank col3\" >&nbsp;</th>\n",
              "      <th class=\"blank col4\" >&nbsp;</th>\n",
              "      <th class=\"blank col5\" >&nbsp;</th>\n",
              "      <th class=\"blank col6\" >&nbsp;</th>\n",
              "    </tr>\n",
              "  </thead>\n",
              "  <tbody>\n",
              "    <tr>\n",
              "      <th id=\"T_c3ab1_level0_row0\" class=\"row_heading level0 row0\" >11</th>\n",
              "      <td id=\"T_c3ab1_row0_col0\" class=\"data row0 col0\" >846</td>\n",
              "      <td id=\"T_c3ab1_row0_col1\" class=\"data row0 col1\" >1436</td>\n",
              "      <td id=\"T_c3ab1_row0_col2\" class=\"data row0 col2\" >29</td>\n",
              "      <td id=\"T_c3ab1_row0_col3\" class=\"data row0 col3\" >948</td>\n",
              "      <td id=\"T_c3ab1_row0_col4\" class=\"data row0 col4\" >1005</td>\n",
              "      <td id=\"T_c3ab1_row0_col5\" class=\"data row0 col5\" >978</td>\n",
              "      <td id=\"T_c3ab1_row0_col6\" class=\"data row0 col6\" >858</td>\n",
              "    </tr>\n",
              "  </tbody>\n",
              "</table>\n"
            ],
            "text/plain": [
              "<pandas.io.formats.style.Styler at 0x1928ad2ab00>"
            ]
          },
          "execution_count": 164,
          "metadata": {},
          "output_type": "execute_result"
        }
      ],
      "source": [
        "#확진월, 요일\n",
        "all_day[\"확진월\"] = all_day[\"확진일자\"].dt.month\n",
        "all_day[\"확진요일\"] = all_day[\"확진일자\"].dt.dayofweek\n",
        "\n",
        "# 월별, 요일별 확진수를 groupby로 구하기\n",
        "all_day_week = all_day.groupby([\"확진월\", \"확진요일\"])[\"확진수\"].sum()\n",
        "all_day_week = all_day_week.unstack().astype(int)\n",
        "\n",
        "dayofweek = \"월 화 수 목 금 토 일\"\n",
        "dayofweek = dayofweek.split()\n",
        "\n",
        "all_day_week.columns = dayofweek\n",
        "\n",
        "# style.background_gradient 로 색상을 표현합니다.\n",
        "all_day_week.style.background_gradient(cmap=\"Blues\")"
      ]
    },
    {
      "cell_type": "code",
      "execution_count": 165,
      "metadata": {
        "colab": {
          "base_uri": "https://localhost:8080/",
          "height": 1000
        },
        "id": "P84jlpJ3Pv6P",
        "outputId": "96339293-9271-49ca-f598-94d9ccb5e4b9"
      },
      "outputs": [
        {
          "data": {
            "text/plain": [
              "<AxesSubplot:>"
            ]
          },
          "execution_count": 165,
          "metadata": {},
          "output_type": "execute_result"
        },
        {
          "data": {
            "image/png": "[encoded data removed]",
            "text/plain": [
              "<Figure size 720x864 with 1 Axes>"
            ]
          },
          "metadata": {
            "needs_background": "light"
          },
          "output_type": "display_data"
        }
      ],
      "source": [
        "# 접촉력 빈도수를 구합니다.\n",
        "df[\"접촉력\"].value_counts().head(20)\n",
        "\n",
        "# 접촉력의 unique 값만 구합니다.\n",
        "df[\"접촉력\"].unique()\n",
        "\n",
        "# \"확인\" 이 들어가는 접촉력만 찾습니다.\n",
        "df.loc[df[\"접촉력\"].str.contains(\"확인\"), \"접촉력\"].unique()\n",
        "\n",
        "# '확인 중', '확인중' => \"확인 중\" 으로 변경합니다.\n",
        "\n",
        "df.loc[df[\"접촉력\"].str.contains(\"확인\"), \"접촉력\"] = \"확인 중\"\n",
        "\n",
        "# \"확인\" 이 들어가는 접촉력만 찾습니다.\n",
        "\n",
        "df.loc[df[\"접촉력\"].str.contains(\"확인\"), \"접촉력\"].unique()\n",
        "\n",
        "# 접촉력 빈도수를 시각화 합니다.\n",
        "\n",
        "contact_count = df[\"접촉력\"].value_counts()\n",
        "contact_count_top = contact_count.sort_values().tail(5)\n",
        "contact_count_top.plot.barh(figsize=(10, 12))"
      ]
    },
    {
      "cell_type": "code",
      "execution_count": 166,
      "metadata": {
        "colab": {
          "base_uri": "https://localhost:8080/",
          "height": 1000
        },
        "id": "ou1C1GfVa9SJ",
        "outputId": "3a0c9021-63c6-430d-f121-889c0a89c6b0"
      },
      "outputs": [
        {
          "data": {
            "text/plain": [
              "<AxesSubplot:>"
            ]
          },
          "execution_count": 166,
          "metadata": {},
          "output_type": "execute_result"
        },
        {
          "data": {
            "image/png": "[encoded data removed]",
            "text/plain": [
              "<Figure size 1584x720 with 1 Axes>"
            ]
          },
          "metadata": {
            "needs_background": "light"
          },
          "output_type": "display_data"
        }
      ],
      "source": [
        "#거주지\n",
        "gu_count = df_all[\"거주지\"].value_counts().sort_index()\n",
        "gu_count.plot.bar(rot=0,figsize=(22,10))"
      ]
    },
    {
      "cell_type": "code",
      "execution_count": 179,
      "metadata": {},
      "outputs": [
        {
          "data": {
            "image/png": "[encoded data removed]",
            "text/plain": [
              "<Figure size 1440x288 with 1 Axes>"
            ]
          },
          "metadata": {
            "needs_background": "light"
          },
          "output_type": "display_data"
        }
      ],
      "source": [
        "#일일 지역별 확진자 그래프 그리기\n",
        "gu_count_today = gu_count.plot.bar(rot=0,figsize=(20,4)) \n",
        "for i in range(1):\n",
        "    case_count = day_count[-1:].iloc[i]\n",
        "    if case_count > 10:\n",
        "        gu_count_today.text(x=i, y=case_count, s=case_count)"
      ]
    },
    {
      "cell_type": "code",
      "execution_count": 167,
      "metadata": {},
      "outputs": [
        {
          "data": {
            "text/plain": [
              "6   2021-11-16\n",
              "Name: 확진일자, dtype: datetime64[ns]"
            ]
          },
          "execution_count": 167,
          "metadata": {},
          "output_type": "execute_result"
        }
      ],
      "source": [
        "all_day_today = all_day[\"확진일자\"][-1:]\n",
        "all_day_today"
      ]
    },
    {
      "cell_type": "code",
      "execution_count": 168,
      "metadata": {},
      "outputs": [
        {
          "data": {
            "text/plain": [
              "<AxesSubplot:xlabel='거주지,확진일'>"
            ]
          },
          "execution_count": 168,
          "metadata": {},
          "output_type": "execute_result"
        },
        {
          "data": {
            "image/png": "[encoded data removed]",
            "text/plain": [
              "<Figure size 2880x720 with 1 Axes>"
            ]
          },
          "metadata": {
            "needs_background": "light"
          },
          "output_type": "display_data"
        }
      ],
      "source": [
        "gu_count_days = df_all[[\"거주지\", \"확진일\"]].value_counts().sort_index()\n",
        "gu_count_days.plot.bar(rot=90,figsize=(40,10))\n",
        "\n",
        "\n",
        "\n"
      ]
    }
  ],
  "metadata": {
    "colab": {
      "collapsed_sections": [],
      "name": "서울특별시 코로나 확진자 발생 동향 분석( 11/16)",
      "provenance": []
    },
    "kernelspec": {
      "display_name": "Python 3",
      "name": "python3"
    },
    "language_info": {
      "codemirror_mode": {
        "name": "ipython",
        "version": 3
      },
      "file_extension": ".py",
      "mimetype": "text/x-python",
      "name": "python",
      "nbconvert_exporter": "python",
      "pygments_lexer": "ipython3",
      "version": "3.10.0"
    }
  },
  "nbformat": 4,
  "nbformat_minor": 0
}
