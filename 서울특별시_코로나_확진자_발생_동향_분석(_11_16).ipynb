{
  "nbformat": 4,
  "nbformat_minor": 0,
  "metadata": {
    "colab": {
      "name": "서울특별시 코로나 확진자 발생 동향 분석( 11/16)",
      "provenance": [],
      "collapsed_sections": []
    },
    "kernelspec": {
      "name": "python3",
      "display_name": "Python 3"
    },
    "language_info": {
      "name": "python"
    }
  },
  "cells": [
    {
      "cell_type": "code",
      "metadata": {
        "id": "jk4PsBiSF2vX"
      },
      "source": [
        "import pandas as pd\n",
        "import numpy as np\n",
        "import matplotlib.pyplot as plt"
      ],
      "execution_count": 141,
      "outputs": []
    },
    {
      "cell_type": "code",
      "metadata": {
        "id": "1_OFTRfWxli6"
      },
      "source": [
        "url= \"https://www.seoul.go.kr/coronaV/coronaStatus.do\""
      ],
      "execution_count": 142,
      "outputs": []
    },
    {
      "cell_type": "code",
      "metadata": {
        "id": "foH7vZwQyCFP",
        "colab": {
          "base_uri": "https://localhost:8080/",
          "height": 49
        },
        "outputId": "4e9b9c6b-0bf0-40f5-b7be-b052a6ff3cf5"
      },
      "source": [
        "# read_html 은 사이트 내의 html 태그를 불러옵니다.\n",
        "table = pd.read_html(url)\n",
        "\n",
        "# table 변수 안에 있는 table 태그의 값을 하나씩 읽어보며 확진자 목록이 있는 테이블을 가져옵니다.\n",
        "df=table[5]\n",
        "df"
      ],
      "execution_count": 145,
      "outputs": [
        {
          "output_type": "execute_result",
          "data": {
            "text/html": [
              "<div>\n",
              "<style scoped>\n",
              "    .dataframe tbody tr th:only-of-type {\n",
              "        vertical-align: middle;\n",
              "    }\n",
              "\n",
              "    .dataframe tbody tr th {\n",
              "        vertical-align: top;\n",
              "    }\n",
              "\n",
              "    .dataframe thead th {\n",
              "        text-align: right;\n",
              "    }\n",
              "</style>\n",
              "<table border=\"1\" class=\"dataframe\">\n",
              "  <thead>\n",
              "    <tr style=\"text-align: right;\">\n",
              "      <th></th>\n",
              "      <th>연번</th>\n",
              "      <th>환자</th>\n",
              "      <th>확진일</th>\n",
              "      <th>거주지</th>\n",
              "      <th>여행력</th>\n",
              "      <th>접촉력</th>\n",
              "      <th>퇴원현황</th>\n",
              "    </tr>\n",
              "  </thead>\n",
              "  <tbody>\n",
              "  </tbody>\n",
              "</table>\n",
              "</div>"
            ],
            "text/plain": [
              "Empty DataFrame\n",
              "Columns: [연번, 환자, 확진일, 거주지, 여행력, 접촉력, 퇴원현황]\n",
              "Index: []"
            ]
          },
          "metadata": {},
          "execution_count": 145
        }
      ]
    },
    {
      "cell_type": "code",
      "metadata": {
        "id": "ZgEXtxA6uXWr"
      },
      "source": [
        "import requests\n",
        "url= \"https://news.seoul.go.kr/api/27/getCorona19Status/get_status_ajax.php?draw=1&columns[0][data]=0\"\n",
        "#url= f\"{url}&columns[0][name]=&columns[0][searchable]=true&columns[0][orderable]=true&columns[0][search][value]=&columns[0][search][regex]=false&columns[1][data]=1&columns[1][name]=&columns[1][searchable]=true&columns[1][orderable]=true&columns[1][search][value]=&columns[1][search][regex]=false&columns[2][data]=2&columns[2][name]=&columns[2][searchable]=true&columns[2][orderable]=true&columns[2][search][value]=&columns[2][search][regex]=false&columns[3][data]=3&columns[3][name]=&columns[3][searchable]=true&columns[3][orderable]=true&columns[3][search][value]=&columns[3][search][regex]=false&columns[4][data]=4&columns[4][name]=&columns[4][searchable]=true&columns[4][orderable]=true&columns[4][search][value]=&columns[4][search][regex]=false&columns[5][data]=5&columns[5][name]=&columns[5][searchable]=true&columns[5][orderable]=true&columns[5][search][value]=&columns[5][search][regex]=false&columns[6][data]=6&columns[6][name]=&columns[6][searchable]=true&columns[6][orderable]=true&columns[6][search][value]=&columns[6][search][regex]=false&order[0][column]=0&order[0][dir]=desc&start=0&length=100&search[value]=&search[regex]=true&_=1634131509151\"\n",
        "url = f\"{url}&start=100&length=100&search%5Bvalue%5D=&search%5Bregex%5D=true&_=1634131509153\"\n",
        "\n",
        "response=requests.get(url)"
      ],
      "execution_count": 52,
      "outputs": []
    },
    {
      "cell_type": "code",
      "metadata": {
        "id": "hhMhfk3Ru3kb"
      },
      "source": [
        "data_json=response.json()"
      ],
      "execution_count": 53,
      "outputs": []
    },
    {
      "cell_type": "code",
      "metadata": {
        "id": "esF2G95KvPAg"
      },
      "source": [
        "import time\n",
        "from tqdm import trange"
      ],
      "execution_count": 54,
      "outputs": []
    },
    {
      "cell_type": "code",
      "metadata": {
        "id": "Tp3knB6IvduR"
      },
      "source": [
        "def get_seoul_covid19_100001_currnet(page_no):\n",
        "  ''' \n",
        "  page no: 입력값으로 페이지 번호를 입력하면 해당 번호의 데이터를 가져옴\n",
        "  start no: 입력받은  page_no로\n",
        "  '''\n",
        "  start_no=(page_no-1)*100\n",
        "  url= f\"https://news.seoul.go.kr/api/27/getCorona19Status/get_status_ajax.php?draw{page_no}\"\n",
        "  #url= f\"{url}&columns[0][name]=&columns[0][searchable]=true&columns[0][orderable]=true&columns[0][search][value]=&columns[0][search][regex]=false&columns[1][data]=1&columns[1][name]=&columns[1][searchable]=true&columns[1][orderable]=true&columns[1][search][value]=&columns[1][search][regex]=false&columns[2][data]=2&columns[2][name]=&columns[2][searchable]=true&columns[2][orderable]=true&columns[2][search][value]=&columns[2][search][regex]=false&columns[3][data]=3&columns[3][name]=&columns[3][searchable]=true&columns[3][orderable]=true&columns[3][search][value]=&columns[3][search][regex]=false&columns[4][data]=4&columns[4][name]=&columns[4][searchable]=true&columns[4][orderable]=true&columns[4][search][value]=&columns[4][search][regex]=false&columns[5][data]=5&columns[5][name]=&columns[5][searchable]=true&columns[5][orderable]=true&columns[5][search][value]=&columns[5][search][regex]=false&columns[6][data]=6&columns[6][name]=&columns[6][searchable]=true&columns[6][orderable]=true&columns[6][search][value]=&columns[6][search][regex]=false&order[0][column]=0&order[0][dir]=desc&start=0&length=100&search[value]=&search[regex]=true&_=1634131509151\"\n",
        "  url = f\"{url}&order%5B0%5D%5Bdir%5D=desc&start={start_no}&length=100\"\n",
        "  \n",
        "  response=requests.get(url)\n",
        "  data_json = response.json()\n",
        "  return data_json\n"
      ],
      "execution_count": 55,
      "outputs": []
    },
    {
      "cell_type": "code",
      "metadata": {
        "id": "BAtooMaQ0wFc"
      },
      "source": [
        "def get_multi_page_list_100001_currnet(start_page,end_page=80):\n",
        "\n",
        "  page_list=[]\n",
        "  for page_no in trange(start_page,end_page+1):\n",
        "    one_page_data_json =get_seoul_covid19_100001_currnet(page_no)\n",
        "    if len(one_page_data_json[\"data\"])>0:\n",
        "        one_page_df =pd.DataFrame(one_page_data_json[\"data\"])\n",
        "        page_list.append(one_page_df)\n",
        "        time.sleep(0.5)\n",
        "    else:\n",
        "      return page_list\n",
        "  \n",
        "  return page_list\n",
        "\n"
      ],
      "execution_count": 56,
      "outputs": []
    },
    {
      "cell_type": "code",
      "metadata": {
        "id": "HgILBFTPIZTN",
        "colab": {
          "base_uri": "https://localhost:8080/",
          "height": 221
        },
        "outputId": "07456ab8-e5e6-4bc0-e612-beb95e3ffc0e"
      },
      "source": [
        "start_page=1\n",
        "end_page= 610\n",
        "\n",
        "page_list= get_multi_page_list_100001_currnet(start_page, end_page) \n",
        "df_all_10001_current=pd.concat(page_list)\n",
        "\n",
        "df_all_10001_current.columns = table[5].columns.tolist()\n",
        "df_all_10001_current.head()"
      ],
      "execution_count": 57,
      "outputs": [
        {
          "output_type": "stream",
          "name": "stderr",
          "text": [
            "100%|██████████| 610/610 [18:19<00:00,  1.80s/it]\n"
          ]
        },
        {
          "output_type": "execute_result",
          "data": {
            "text/html": [
              "<div>\n",
              "<style scoped>\n",
              "    .dataframe tbody tr th:only-of-type {\n",
              "        vertical-align: middle;\n",
              "    }\n",
              "\n",
              "    .dataframe tbody tr th {\n",
              "        vertical-align: top;\n",
              "    }\n",
              "\n",
              "    .dataframe thead th {\n",
              "        text-align: right;\n",
              "    }\n",
              "</style>\n",
              "<table border=\"1\" class=\"dataframe\">\n",
              "  <thead>\n",
              "    <tr style=\"text-align: right;\">\n",
              "      <th></th>\n",
              "      <th>연번</th>\n",
              "      <th>환자</th>\n",
              "      <th>확진일</th>\n",
              "      <th>거주지</th>\n",
              "      <th>여행력</th>\n",
              "      <th>접촉력</th>\n",
              "      <th>퇴원현황</th>\n",
              "    </tr>\n",
              "  </thead>\n",
              "  <tbody>\n",
              "    <tr>\n",
              "      <th>0</th>\n",
              "      <td>&lt;p class='corona19_no'&gt;133513&lt;/p&gt;</td>\n",
              "      <td>397855</td>\n",
              "      <td>2021-11-15</td>\n",
              "      <td>성북구</td>\n",
              "      <td>-</td>\n",
              "      <td>감염경로 조사중</td>\n",
              "      <td>&lt;b class=''&gt;-&lt;/b&gt;</td>\n",
              "    </tr>\n",
              "    <tr>\n",
              "      <th>1</th>\n",
              "      <td>&lt;p class='corona19_no'&gt;133512&lt;/p&gt;</td>\n",
              "      <td>397856</td>\n",
              "      <td>2021-11-15</td>\n",
              "      <td>동대문구</td>\n",
              "      <td>-</td>\n",
              "      <td>기타 확진자 접촉</td>\n",
              "      <td>&lt;b class=''&gt;-&lt;/b&gt;</td>\n",
              "    </tr>\n",
              "    <tr>\n",
              "      <th>2</th>\n",
              "      <td>&lt;p class='corona19_no'&gt;133511&lt;/p&gt;</td>\n",
              "      <td>398211</td>\n",
              "      <td>2021-11-15</td>\n",
              "      <td>도봉구</td>\n",
              "      <td>-</td>\n",
              "      <td>감염경로 조사중</td>\n",
              "      <td>&lt;b class=''&gt;-&lt;/b&gt;</td>\n",
              "    </tr>\n",
              "    <tr>\n",
              "      <th>3</th>\n",
              "      <td>&lt;p class='corona19_no'&gt;133510&lt;/p&gt;</td>\n",
              "      <td>397773</td>\n",
              "      <td>2021-11-15</td>\n",
              "      <td>동대문구</td>\n",
              "      <td>-</td>\n",
              "      <td>감염경로 조사중</td>\n",
              "      <td>&lt;b class=''&gt;-&lt;/b&gt;</td>\n",
              "    </tr>\n",
              "    <tr>\n",
              "      <th>4</th>\n",
              "      <td>&lt;p class='corona19_no'&gt;133509&lt;/p&gt;</td>\n",
              "      <td>398465</td>\n",
              "      <td>2021-11-15</td>\n",
              "      <td>구로구</td>\n",
              "      <td>-</td>\n",
              "      <td>기타 확진자 접촉</td>\n",
              "      <td>&lt;b class=''&gt;-&lt;/b&gt;</td>\n",
              "    </tr>\n",
              "  </tbody>\n",
              "</table>\n",
              "</div>"
            ],
            "text/plain": [
              "                                  연번      환자  ...        접촉력               퇴원현황\n",
              "0  <p class='corona19_no'>133513</p>  397855  ...   감염경로 조사중  <b class=''>-</b>\n",
              "1  <p class='corona19_no'>133512</p>  397856  ...  기타 확진자 접촉  <b class=''>-</b>\n",
              "2  <p class='corona19_no'>133511</p>  398211  ...   감염경로 조사중  <b class=''>-</b>\n",
              "3  <p class='corona19_no'>133510</p>  397773  ...   감염경로 조사중  <b class=''>-</b>\n",
              "4  <p class='corona19_no'>133509</p>  398465  ...  기타 확진자 접촉  <b class=''>-</b>\n",
              "\n",
              "[5 rows x 7 columns]"
            ]
          },
          "metadata": {},
          "execution_count": 57
        }
      ]
    },
    {
      "cell_type": "code",
      "metadata": {
        "id": "U43NwpL4I6om"
      },
      "source": [
        "df_all=pd.concat(page_list)"
      ],
      "execution_count": 58,
      "outputs": []
    },
    {
      "cell_type": "code",
      "metadata": {
        "id": "PZkVSGzj6qDL"
      },
      "source": [
        "cols = df.columns.tolist()"
      ],
      "execution_count": 60,
      "outputs": []
    },
    {
      "cell_type": "code",
      "metadata": {
        "id": "xqU86ph6Jwl_"
      },
      "source": [
        "df_all.columns = cols"
      ],
      "execution_count": 61,
      "outputs": []
    },
    {
      "cell_type": "code",
      "metadata": {
        "id": "h-GnrnTmJ8m5"
      },
      "source": [
        "import re\n",
        "def extract_number(num_string):\n",
        "  if type(num_string)==str:\n",
        "    num_string=num_string.replace(\"corona19\",\"\")\n",
        "    num=re.sub(\"[^0-9]\",\"\",num_string)\n",
        "    num=int(num)\n",
        "    return num\n",
        "  else:\n",
        "    return num_string"
      ],
      "execution_count": 62,
      "outputs": []
    },
    {
      "cell_type": "code",
      "metadata": {
        "id": "mYM39S3gKpZj",
        "colab": {
          "base_uri": "https://localhost:8080/"
        },
        "outputId": "d1d78a46-399f-41ee-acee-580522a8a28c"
      },
      "source": [
        "num_string =\"<p class='corona19_no'>109940</p>\""
      ],
      "execution_count": 63,
      "outputs": [
        {
          "output_type": "execute_result",
          "data": {
            "text/plain": [
              "109940"
            ]
          },
          "metadata": {},
          "execution_count": 63
        }
      ]
    },
    {
      "cell_type": "code",
      "metadata": {
        "id": "v-KryNPAl0DG"
      },
      "source": [
        "df_all[\"연번\"]=df_all[\"연번\"].map(extract_number)"
      ],
      "execution_count": 64,
      "outputs": []
    },
    {
      "cell_type": "code",
      "metadata": {
        "id": "bDK1uweSLANR"
      },
      "source": [
        "def extract_hangeul(origin_text):\n",
        "  subtract_text=re.sub(\"[^가-힣]\",\"\",origin_text)\n",
        "  return subtract_text"
      ],
      "execution_count": 65,
      "outputs": []
    },
    {
      "cell_type": "code",
      "metadata": {
        "id": "c1KqwyDMLi8t",
        "colab": {
          "base_uri": "https://localhost:8080/",
          "height": 35
        },
        "outputId": "4d568b05-d2d7-4ace-caf9-0861303dfe72"
      },
      "source": [
        "extract_hangeul(\"<b class='status1'>기타</b>\")"
      ],
      "execution_count": 66,
      "outputs": [
        {
          "output_type": "execute_result",
          "data": {
            "application/vnd.google.colaboratory.intrinsic+json": {
              "type": "string"
            },
            "text/plain": [
              "'기타'"
            ]
          },
          "metadata": {},
          "execution_count": 66
        }
      ]
    },
    {
      "cell_type": "code",
      "metadata": {
        "id": "rrjooLrDLteI",
        "colab": {
          "base_uri": "https://localhost:8080/",
          "height": 35
        },
        "outputId": "4464d63e-133e-48a1-886a-8a6c2e3d02ac"
      },
      "source": [
        "extract_hangeul(\"<b class='status1'>퇴원</b>\")"
      ],
      "execution_count": 67,
      "outputs": [
        {
          "output_type": "execute_result",
          "data": {
            "application/vnd.google.colaboratory.intrinsic+json": {
              "type": "string"
            },
            "text/plain": [
              "'퇴원'"
            ]
          },
          "metadata": {},
          "execution_count": 67
        }
      ]
    },
    {
      "cell_type": "code",
      "metadata": {
        "id": "MfCV-H-9LyOy",
        "colab": {
          "base_uri": "https://localhost:8080/",
          "height": 35
        },
        "outputId": "13d37020-6367-466c-de6c-8ba4db536585"
      },
      "source": [
        "extract_hangeul(\"<b class=''></b>\")"
      ],
      "execution_count": 68,
      "outputs": [
        {
          "output_type": "execute_result",
          "data": {
            "application/vnd.google.colaboratory.intrinsic+json": {
              "type": "string"
            },
            "text/plain": [
              "''"
            ]
          },
          "metadata": {},
          "execution_count": 68
        }
      ]
    },
    {
      "cell_type": "code",
      "metadata": {
        "id": "gizbsUO-M5wo",
        "colab": {
          "base_uri": "https://localhost:8080/"
        },
        "outputId": "a276f5fa-ceed-4721-f11c-af31db440512"
      },
      "source": [
        "df.all"
      ],
      "execution_count": 70,
      "outputs": [
        {
          "output_type": "execute_result",
          "data": {
            "text/plain": [
              "<bound method DataFrame.all of Empty DataFrame\n",
              "Columns: [연번, 환자, 확진일, 거주지, 여행력, 접촉력, 퇴원현황]\n",
              "Index: []>"
            ]
          },
          "metadata": {},
          "execution_count": 70
        }
      ]
    },
    {
      "cell_type": "code",
      "metadata": {
        "id": "rOyHGG7HMTrF",
        "colab": {
          "base_uri": "https://localhost:8080/"
        },
        "outputId": "f9cec6e1-0535-4d04-e97e-6c17382f5b43"
      },
      "source": [
        "df_all[\"퇴원현황\"].value_counts()"
      ],
      "execution_count": 71,
      "outputs": [
        {
          "output_type": "execute_result",
          "data": {
            "text/plain": [
              "<b class='status1'>퇴원</b>    41473\n",
              "<b class='status1'>-</b>     14313\n",
              "<b class=''>-</b>             4131\n",
              "<b class='status2'>-</b>       797\n",
              "<b class='status2'>사망</b>      286\n",
              "Name: 퇴원현황, dtype: int64"
            ]
          },
          "metadata": {},
          "execution_count": 71
        }
      ]
    },
    {
      "cell_type": "code",
      "metadata": {
        "id": "3_v69QZQOeeY",
        "colab": {
          "base_uri": "https://localhost:8080/"
        },
        "outputId": "70ca106f-3394-435a-97b2-6135696a96c0"
      },
      "source": [
        "df_all.loc[df_all[\"퇴원현황\"].str.contains(\"퇴원\"),\"퇴원현황\"]=\"퇴원\"\n",
        "df_all.loc[df_all[\"퇴원현황\"].str.contains(\"사망\"),\"퇴원현황\"]=\"사망\"\n",
        "df_all.loc[~df_all[\"퇴원현황\"].str.contains(\"퇴원|사망\"),\"퇴원현황\"] = np.nan\n",
        "df_all[\"퇴원현황\"].value_counts()"
      ],
      "execution_count": 72,
      "outputs": [
        {
          "output_type": "execute_result",
          "data": {
            "text/plain": [
              "퇴원    41473\n",
              "사망      286\n",
              "Name: 퇴원현황, dtype: int64"
            ]
          },
          "metadata": {},
          "execution_count": 72
        }
      ]
    },
    {
      "cell_type": "code",
      "metadata": {
        "id": "DlYs28_t6bVa",
        "colab": {
          "base_uri": "https://localhost:8080/"
        },
        "outputId": "3bcd3c61-83ff-48a1-f809-fe0073a5cbeb"
      },
      "source": [
        "df_all[\"퇴원현황\"]"
      ],
      "execution_count": 73,
      "outputs": [
        {
          "output_type": "execute_result",
          "data": {
            "text/plain": [
              "0     NaN\n",
              "1     NaN\n",
              "2     NaN\n",
              "3     NaN\n",
              "4     NaN\n",
              "     ... \n",
              "95     퇴원\n",
              "96     퇴원\n",
              "97     퇴원\n",
              "98     퇴원\n",
              "99     퇴원\n",
              "Name: 퇴원현황, Length: 61000, dtype: object"
            ]
          },
          "metadata": {},
          "execution_count": 73
        }
      ]
    },
    {
      "cell_type": "code",
      "metadata": {
        "id": "zZCa4bkkO5Ig",
        "colab": {
          "base_uri": "https://localhost:8080/",
          "height": 35
        },
        "outputId": "a4e80b39-976a-4004-92c6-7650bf4ded21"
      },
      "source": [
        "last_date = df_all.iloc[0][\"확진일\"]\n",
        "last_date"
      ],
      "execution_count": 74,
      "outputs": [
        {
          "output_type": "execute_result",
          "data": {
            "application/vnd.google.colaboratory.intrinsic+json": {
              "type": "string"
            },
            "text/plain": [
              "'2021-11-15'"
            ]
          },
          "metadata": {},
          "execution_count": 74
        }
      ]
    },
    {
      "cell_type": "code",
      "metadata": {
        "id": "ZHLd5_REPB-a",
        "colab": {
          "base_uri": "https://localhost:8080/",
          "height": 35
        },
        "outputId": "1024b0b1-736f-4a8e-c936-4b4562036cbc"
      },
      "source": [
        "#마지막 확진일을 파일명에 써주기 위해.을 _로 변경합니다.\n",
        "#확장자와 구분이 쉽게 되도록 _로 변경합니다\n",
        "\n",
        "date=last_date.replace(\".\",\"_\")\n",
        "date"
      ],
      "execution_count": 75,
      "outputs": [
        {
          "output_type": "execute_result",
          "data": {
            "application/vnd.google.colaboratory.intrinsic+json": {
              "type": "string"
            },
            "text/plain": [
              "'2021-11-15'"
            ]
          },
          "metadata": {},
          "execution_count": 75
        }
      ]
    },
    {
      "cell_type": "code",
      "metadata": {
        "id": "7Lod93dHPRyS",
        "colab": {
          "base_uri": "https://localhost:8080/",
          "height": 35
        },
        "outputId": "40be1f14-a81d-40fc-a60a-5b0c09f139ed"
      },
      "source": [
        "#파일명을 만들어 줍니다.\n",
        "#file_name\n",
        "\n",
        "file_name = f\"seoul-covid19-{date}.csv\"\n",
        "file_name"
      ],
      "execution_count": 76,
      "outputs": [
        {
          "output_type": "execute_result",
          "data": {
            "application/vnd.google.colaboratory.intrinsic+json": {
              "type": "string"
            },
            "text/plain": [
              "'seoul-covid19-2021-11-15.csv'"
            ]
          },
          "metadata": {},
          "execution_count": 76
        }
      ]
    },
    {
      "cell_type": "code",
      "metadata": {
        "id": "G1zPlnAVPfKQ"
      },
      "source": [
        "#csv파일로 저장합니다.\n",
        "df_all.to_csv(file_name,index=False)"
      ],
      "execution_count": 77,
      "outputs": []
    },
    {
      "cell_type": "code",
      "metadata": {
        "id": "xBY2ncTYPnMi",
        "colab": {
          "base_uri": "https://localhost:8080/",
          "height": 203
        },
        "outputId": "ef60df36-9d5e-4fc2-b0b8-1cd60614e2ee"
      },
      "source": [
        "#제대로 저장되었는지 확인합니다.\n",
        "df = pd.read_csv(file_name, encoding=\"utf-8\")\n",
        "df[\"확진일\"] = pd.to_datetime(df[\"확진일\"])"
      ],
      "execution_count": 78,
      "outputs": [
        {
          "output_type": "execute_result",
          "data": {
            "text/html": [
              "<div>\n",
              "<style scoped>\n",
              "    .dataframe tbody tr th:only-of-type {\n",
              "        vertical-align: middle;\n",
              "    }\n",
              "\n",
              "    .dataframe tbody tr th {\n",
              "        vertical-align: top;\n",
              "    }\n",
              "\n",
              "    .dataframe thead th {\n",
              "        text-align: right;\n",
              "    }\n",
              "</style>\n",
              "<table border=\"1\" class=\"dataframe\">\n",
              "  <thead>\n",
              "    <tr style=\"text-align: right;\">\n",
              "      <th></th>\n",
              "      <th>연번</th>\n",
              "      <th>환자</th>\n",
              "      <th>확진일</th>\n",
              "      <th>거주지</th>\n",
              "      <th>여행력</th>\n",
              "      <th>접촉력</th>\n",
              "      <th>퇴원현황</th>\n",
              "    </tr>\n",
              "  </thead>\n",
              "  <tbody>\n",
              "    <tr>\n",
              "      <th>0</th>\n",
              "      <td>133513</td>\n",
              "      <td>397855</td>\n",
              "      <td>2021-11-15</td>\n",
              "      <td>성북구</td>\n",
              "      <td>-</td>\n",
              "      <td>감염경로 조사중</td>\n",
              "      <td>NaN</td>\n",
              "    </tr>\n",
              "    <tr>\n",
              "      <th>1</th>\n",
              "      <td>133512</td>\n",
              "      <td>397856</td>\n",
              "      <td>2021-11-15</td>\n",
              "      <td>동대문구</td>\n",
              "      <td>-</td>\n",
              "      <td>기타 확진자 접촉</td>\n",
              "      <td>NaN</td>\n",
              "    </tr>\n",
              "    <tr>\n",
              "      <th>2</th>\n",
              "      <td>133511</td>\n",
              "      <td>398211</td>\n",
              "      <td>2021-11-15</td>\n",
              "      <td>도봉구</td>\n",
              "      <td>-</td>\n",
              "      <td>감염경로 조사중</td>\n",
              "      <td>NaN</td>\n",
              "    </tr>\n",
              "    <tr>\n",
              "      <th>3</th>\n",
              "      <td>133510</td>\n",
              "      <td>397773</td>\n",
              "      <td>2021-11-15</td>\n",
              "      <td>동대문구</td>\n",
              "      <td>-</td>\n",
              "      <td>감염경로 조사중</td>\n",
              "      <td>NaN</td>\n",
              "    </tr>\n",
              "    <tr>\n",
              "      <th>4</th>\n",
              "      <td>133509</td>\n",
              "      <td>398465</td>\n",
              "      <td>2021-11-15</td>\n",
              "      <td>구로구</td>\n",
              "      <td>-</td>\n",
              "      <td>기타 확진자 접촉</td>\n",
              "      <td>NaN</td>\n",
              "    </tr>\n",
              "  </tbody>\n",
              "</table>\n",
              "</div>"
            ],
            "text/plain": [
              "       연번      환자         확진일   거주지 여행력        접촉력 퇴원현황\n",
              "0  133513  397855  2021-11-15   성북구   -   감염경로 조사중  NaN\n",
              "1  133512  397856  2021-11-15  동대문구   -  기타 확진자 접촉  NaN\n",
              "2  133511  398211  2021-11-15   도봉구   -   감염경로 조사중  NaN\n",
              "3  133510  397773  2021-11-15  동대문구   -   감염경로 조사중  NaN\n",
              "4  133509  398465  2021-11-15   구로구   -  기타 확진자 접촉  NaN"
            ]
          },
          "metadata": {},
          "execution_count": 78
        }
      ]
    },
    {
      "cell_type": "code",
      "metadata": {
        "colab": {
          "base_uri": "https://localhost:8080/",
          "height": 238
        },
        "id": "bCsneiy5WoQG",
        "outputId": "547712d6-e055-439a-ad45-1dfe9e43bc51"
      },
      "source": [
        "# 월,주를 추출합니다.\n",
        "\n",
        "df[\"월\"] = df[\"확진일\"].dt.month\n",
        "df[\"주\"] = df[\"확진일\"].dt.week"
      ],
      "execution_count": 80,
      "outputs": [
        {
          "output_type": "stream",
          "name": "stderr",
          "text": [
            "/usr/local/lib/python3.7/dist-packages/ipykernel_launcher.py:4: FutureWarning: Series.dt.weekofyear and Series.dt.week have been deprecated.  Please use Series.dt.isocalendar().week instead.\n",
            "  after removing the cwd from sys.path.\n"
          ]
        },
        {
          "output_type": "execute_result",
          "data": {
            "text/html": [
              "<div>\n",
              "<style scoped>\n",
              "    .dataframe tbody tr th:only-of-type {\n",
              "        vertical-align: middle;\n",
              "    }\n",
              "\n",
              "    .dataframe tbody tr th {\n",
              "        vertical-align: top;\n",
              "    }\n",
              "\n",
              "    .dataframe thead th {\n",
              "        text-align: right;\n",
              "    }\n",
              "</style>\n",
              "<table border=\"1\" class=\"dataframe\">\n",
              "  <thead>\n",
              "    <tr style=\"text-align: right;\">\n",
              "      <th></th>\n",
              "      <th>확진일</th>\n",
              "      <th>월</th>\n",
              "      <th>주</th>\n",
              "    </tr>\n",
              "  </thead>\n",
              "  <tbody>\n",
              "    <tr>\n",
              "      <th>0</th>\n",
              "      <td>2021-11-15</td>\n",
              "      <td>11</td>\n",
              "      <td>46</td>\n",
              "    </tr>\n",
              "    <tr>\n",
              "      <th>1</th>\n",
              "      <td>2021-11-15</td>\n",
              "      <td>11</td>\n",
              "      <td>46</td>\n",
              "    </tr>\n",
              "    <tr>\n",
              "      <th>2</th>\n",
              "      <td>2021-11-15</td>\n",
              "      <td>11</td>\n",
              "      <td>46</td>\n",
              "    </tr>\n",
              "    <tr>\n",
              "      <th>3</th>\n",
              "      <td>2021-11-15</td>\n",
              "      <td>11</td>\n",
              "      <td>46</td>\n",
              "    </tr>\n",
              "    <tr>\n",
              "      <th>4</th>\n",
              "      <td>2021-11-15</td>\n",
              "      <td>11</td>\n",
              "      <td>46</td>\n",
              "    </tr>\n",
              "  </tbody>\n",
              "</table>\n",
              "</div>"
            ],
            "text/plain": [
              "         확진일   월   주\n",
              "0 2021-11-15  11  46\n",
              "1 2021-11-15  11  46\n",
              "2 2021-11-15  11  46\n",
              "3 2021-11-15  11  46\n",
              "4 2021-11-15  11  46"
            ]
          },
          "metadata": {},
          "execution_count": 80
        }
      ]
    },
    {
      "cell_type": "code",
      "metadata": {
        "id": "TTxqpQmiW98u"
      },
      "source": [
        "# 일자별 확진자수를 선그래프로 그립니다.\n",
        "# 월일만 표기되도록 슬라이싱을 사용해 \"월일\" 컬럼을 만듭니다.\n",
        "df[\"월일\"] = df[\"확진일\"].astype(str).map(lambda x : x[-5:])\n",
        "day_count = df[\"월일\"].value_counts().sort_index()"
      ],
      "execution_count": 115,
      "outputs": []
    },
    {
      "cell_type": "code",
      "metadata": {
        "colab": {
          "base_uri": "https://localhost:8080/",
          "height": 320
        },
        "id": "k_5TwVaCdoDB",
        "outputId": "31b58dd1-2f99-45d7-f9fb-d6b7e98d99c6"
      },
      "source": [
        "g = day_count.plot(figsize=(15, 5))\n",
        "\n",
        "for i in range(len(day_count)):\n",
        "    case_count = day_count.iloc[i]\n",
        "    if case_count > 20:\n",
        "        g.text(x=i, y=case_count, s=case_count)"
      ],
      "execution_count": 126,
      "outputs": [
        {
          "output_type": "display_data",
          "data": {
            "image/png": "[encoded data removed]",
            "text/plain": [
              "<Figure size 1080x360 with 1 Axes>"
            ]
          },
          "metadata": {
            "needs_background": "light"
          }
        }
      ]
    },
    {
      "cell_type": "code",
      "metadata": {
        "colab": {
          "base_uri": "https://localhost:8080/"
        },
        "id": "FItPFcbF0PV9",
        "outputId": "2dd458db-fea3-4567-b3f9-9dc2e1a163de"
      },
      "source": [
        "#한글폰트 설정\n",
        "\n",
        "def get_font_family():\n",
        "    \"\"\"\n",
        "    시스템 환경에 따른 기본 폰트명을 반환하는 함수\n",
        "    \"\"\"\n",
        "    import platform\n",
        "    system_name = platform.system()\n",
        "    # colab 사용자는 system_name이 'Linux'로 확인\n",
        "\n",
        "    if system_name == \"Darwin\" :\n",
        "        font_family = \"AppleGothic\"\n",
        "    elif system_name == \"Windows\":\n",
        "        font_family = \"Malgun Gothic\"\n",
        "    else:\n",
        "        # Linux\n",
        "        !apt-get install fonts-nanum -qq  > /dev/null\n",
        "        !fc-cache -fv\n",
        "\n",
        "        import matplotlib as mpl\n",
        "        mpl.font_manager._rebuild()\n",
        "        findfont = mpl.font_manager.fontManager.findfont\n",
        "        mpl.font_manager.findfont = findfont\n",
        "        mpl.backends.backend_agg.findfont = findfont\n",
        "        \n",
        "        font_family = \"NanumBarunGothic\"\n",
        "    return font_family\n",
        "\n",
        "plt.rc(\"font\", family=get_font_family())"
      ],
      "execution_count": 140,
      "outputs": [
        {
          "output_type": "stream",
          "name": "stdout",
          "text": [
            "/usr/share/fonts: caching, new cache contents: 0 fonts, 1 dirs\n",
            "/usr/share/fonts/truetype: caching, new cache contents: 0 fonts, 3 dirs\n",
            "/usr/share/fonts/truetype/humor-sans: caching, new cache contents: 1 fonts, 0 dirs\n",
            "/usr/share/fonts/truetype/liberation: caching, new cache contents: 16 fonts, 0 dirs\n",
            "/usr/share/fonts/truetype/nanum: caching, new cache contents: 10 fonts, 0 dirs\n",
            "/usr/local/share/fonts: caching, new cache contents: 0 fonts, 0 dirs\n",
            "/root/.local/share/fonts: skipping, no such directory\n",
            "/root/.fonts: skipping, no such directory\n",
            "/var/cache/fontconfig: cleaning cache directory\n",
            "/root/.cache/fontconfig: not cleaning non-existent cache directory\n",
            "/root/.fontconfig: not cleaning non-existent cache directory\n",
            "fc-cache: succeeded\n"
          ]
        }
      ]
    },
    {
      "cell_type": "code",
      "metadata": {
        "colab": {
          "base_uri": "https://localhost:8080/",
          "height": 265
        },
        "id": "70kiKSv4dzzI",
        "outputId": "8f4b37be-393f-4bbb-abc5-5c333f2f2d92"
      },
      "source": [
        "# 슬라이싱을 통해 최근 7일 데이터만 그립니다.\n",
        "\n",
        "\n",
        "g = day_count[-7:].plot.bar(rot=0)\n",
        "\n",
        "for i in range(7):\n",
        "    case_count = day_count[-7:].iloc[i]\n",
        "    if case_count > 10:\n",
        "        g.text(x=i-0.2, y=case_count, s=case_count)"
      ],
      "execution_count": 133,
      "outputs": [
        {
          "output_type": "display_data",
          "data": {
            "image/png": "[encoded data removed]",
            "text/plain": [
              "<Figure size 432x288 with 1 Axes>"
            ]
          },
          "metadata": {
            "needs_background": "light"
          }
        }
      ]
    },
    {
      "cell_type": "code",
      "metadata": {
        "colab": {
          "base_uri": "https://localhost:8080/",
          "height": 265
        },
        "id": "RQqrBu-cZlPq",
        "outputId": "16e7147e-65d6-4be3-cd2c-c82597aaeac9"
      },
      "source": [
        "# 월별 확진자수에 대한 빈도수를 구해서 시각화 합니다.\n",
        "\n",
        "month_case = df[\"월\"].value_counts().sort_index()\n",
        "g = month_case.plot.bar(rot=0)\n",
        "\n",
        "for i in range(len(month_case)):\n",
        "    g.text(x=i-0.2, y=month_case.iloc[i]+10, s=month_case.iloc[i])"
      ],
      "execution_count": 85,
      "outputs": [
        {
          "output_type": "display_data",
          "data": {
            "image/png": "[encoded data removed]",
            "text/plain": [
              "<Figure size 432x288 with 1 Axes>"
            ]
          },
          "metadata": {
            "needs_background": "light"
          }
        }
      ]
    },
    {
      "cell_type": "code",
      "metadata": {
        "id": "F0fhq6G8Yx-h",
        "colab": {
          "base_uri": "https://localhost:8080/",
          "height": 475
        },
        "outputId": "a154e7c4-1347-46d7-98dd-1a15d2d44030"
      },
      "source": [
        "# 첫 확진일 부터 마지막 확진일까지 가져옵니다.\n",
        "# 데이터프레임의 첫번째 날짜는 first_day 에 마지막 날짜는 last_day 에 담습니다.\n",
        "first_day = df.iloc[-1, 2]\n",
        "last_day = df.iloc[0, 2]\n",
        "\n",
        "# pd.date_range 를 통해 시작하는 날짜부터 끝나는 날짜까지의 \n",
        "# DatetimeIndex 를 만들고 days 라는 변수에 저장합니다.\n",
        "days = pd.date_range(first_day, last_day)\n",
        "\n",
        "# days 변수의 값으로 \"연월일\" 이라는 컬럼이름을 갖는 데이터프레임을 만듭니다.\n",
        "# days.to_frame()\n",
        "df_days =  pd.DataFrame({\"확진일자\": days})\n",
        "\n",
        "# 확진일자별로 빈도수 구하기\n",
        "daily_case = df[\"확진일\"].value_counts()\n",
        "\n",
        "# 확진일자별로 빈도수 구한 내용을 데이터프레임으로 변환하기\n",
        "df_daily_case = daily_case.to_frame()\n",
        "\n",
        "# value_counts 결과의 컬럼명을 \"확진수\" 로 바꾸기\n",
        "df_daily_case.columns = [\"확진수\"]\n",
        "\n",
        "# 확진자가 없는 날도 일자에 표현이 되도록 전체 일자와 확진 데이터를 merge 로 합쳐줍니다.\n",
        "# 1321\n",
        "all_day = df_days.merge(df_daily_case, \n",
        "                        left_on=\"확진일자\", \n",
        "                        right_on=df_daily_case.index, how=\"left\")\n",
        "\n",
        "# 확진수를 fillna를 통해 결측치를 0으로 채워주고 누적해서 더해줍니다.\n",
        "all_day[\"누적확진\"] = all_day[\"확진수\"].fillna(0).cumsum()\n",
        "\n",
        "# 연도를 제외하고 월-일로 \"일자\" 컬럼 만들기\n",
        "\n",
        "all_day[\"일자\"] = all_day[\"확진일자\"].astype(str).map(lambda x : x[-5:])\n",
        "\n",
        "# \"확진수\", \"누적확진\" 컬럼을 갖는 데이터프레임을 만듭니다.\n",
        "cum_day = all_day[[\"일자\", \"확진수\", \"누적확진\"]]\n",
        "cum_day = cum_day.set_index(\"일자\")\n",
        "\n",
        "#누적확진 그래프\n",
        "cum_day[\"누적확진\"].plot(figsize=(10, 5))"
      ],
      "execution_count": 130,
      "outputs": [
        {
          "output_type": "execute_result",
          "data": {
            "text/plain": [
              "<matplotlib.axes._subplots.AxesSubplot at 0x7f19f238cf50>"
            ]
          },
          "metadata": {},
          "execution_count": 130
        },
        {
          "output_type": "stream",
          "name": "stderr",
          "text": [
            "/usr/local/lib/python3.7/dist-packages/matplotlib/backends/backend_agg.py:214: RuntimeWarning: Glyph 51068 missing from current font.\n",
            "  font.set_text(s, 0.0, flags=flags)\n",
            "/usr/local/lib/python3.7/dist-packages/matplotlib/backends/backend_agg.py:214: RuntimeWarning: Glyph 51088 missing from current font.\n",
            "  font.set_text(s, 0.0, flags=flags)\n",
            "/usr/local/lib/python3.7/dist-packages/matplotlib/backends/backend_agg.py:183: RuntimeWarning: Glyph 51068 missing from current font.\n",
            "  font.set_text(s, 0, flags=flags)\n",
            "/usr/local/lib/python3.7/dist-packages/matplotlib/backends/backend_agg.py:183: RuntimeWarning: Glyph 51088 missing from current font.\n",
            "  font.set_text(s, 0, flags=flags)\n"
          ]
        },
        {
          "output_type": "display_data",
          "data": {
            "image/png": "[encoded data removed]",
            "text/plain": [
              "<Figure size 720x360 with 1 Axes>"
            ]
          },
          "metadata": {
            "needs_background": "light"
          }
        }
      ]
    },
    {
      "cell_type": "code",
      "metadata": {
        "colab": {
          "base_uri": "https://localhost:8080/",
          "height": 203
        },
        "id": "pncEqQcLOrb-",
        "outputId": "283a7be4-a371-4596-ccf0-775f6116bb5d"
      },
      "source": [
        "#확진월, 요일\n",
        "all_day[\"확진월\"] = all_day[\"확진일자\"].dt.month\n",
        "all_day[\"확진요일\"] = all_day[\"확진일자\"].dt.dayofweek\n",
        "\n",
        "# 월별, 요일별 확진수를 groupby로 구하기\n",
        "all_day_week = all_day.groupby([\"확진월\", \"확진요일\"])[\"확진수\"].sum()\n",
        "all_day_week = all_day_week.unstack().astype(int)\n",
        "\n",
        "dayofweek = \"월 화 수 목 금 토 일\"\n",
        "dayofweek = dayofweek.split()\n",
        "\n",
        "all_day_week.columns = dayofweek\n",
        "\n",
        "# style.background_gradient 로 색상을 표현합니다.\n",
        "all_day_week.style.background_gradient(cmap=\"Blues\")"
      ],
      "execution_count": 136,
      "outputs": [
        {
          "output_type": "execute_result",
          "data": {
            "text/html": [
              "<style  type=\"text/css\" >\n",
              "#T_e381045c_46ec_11ec_aa5c_0242ac1c0002row0_col0,#T_e381045c_46ec_11ec_aa5c_0242ac1c0002row0_col1,#T_e381045c_46ec_11ec_aa5c_0242ac1c0002row0_col2,#T_e381045c_46ec_11ec_aa5c_0242ac1c0002row0_col3,#T_e381045c_46ec_11ec_aa5c_0242ac1c0002row0_col4,#T_e381045c_46ec_11ec_aa5c_0242ac1c0002row0_col5,#T_e381045c_46ec_11ec_aa5c_0242ac1c0002row0_col6{\n",
              "            background-color:  #f7fbff;\n",
              "            color:  #000000;\n",
              "        }#T_e381045c_46ec_11ec_aa5c_0242ac1c0002row1_col0,#T_e381045c_46ec_11ec_aa5c_0242ac1c0002row1_col1,#T_e381045c_46ec_11ec_aa5c_0242ac1c0002row1_col2,#T_e381045c_46ec_11ec_aa5c_0242ac1c0002row1_col3,#T_e381045c_46ec_11ec_aa5c_0242ac1c0002row2_col4,#T_e381045c_46ec_11ec_aa5c_0242ac1c0002row2_col5,#T_e381045c_46ec_11ec_aa5c_0242ac1c0002row2_col6{\n",
              "            background-color:  #08306b;\n",
              "            color:  #f1f1f1;\n",
              "        }#T_e381045c_46ec_11ec_aa5c_0242ac1c0002row1_col4{\n",
              "            background-color:  #08478d;\n",
              "            color:  #f1f1f1;\n",
              "        }#T_e381045c_46ec_11ec_aa5c_0242ac1c0002row1_col5{\n",
              "            background-color:  #08519c;\n",
              "            color:  #f1f1f1;\n",
              "        }#T_e381045c_46ec_11ec_aa5c_0242ac1c0002row1_col6{\n",
              "            background-color:  #08488e;\n",
              "            color:  #f1f1f1;\n",
              "        }#T_e381045c_46ec_11ec_aa5c_0242ac1c0002row2_col0{\n",
              "            background-color:  #68acd5;\n",
              "            color:  #000000;\n",
              "        }#T_e381045c_46ec_11ec_aa5c_0242ac1c0002row2_col1{\n",
              "            background-color:  #4493c7;\n",
              "            color:  #000000;\n",
              "        }#T_e381045c_46ec_11ec_aa5c_0242ac1c0002row2_col2{\n",
              "            background-color:  #2777b8;\n",
              "            color:  #000000;\n",
              "        }#T_e381045c_46ec_11ec_aa5c_0242ac1c0002row2_col3{\n",
              "            background-color:  #4695c8;\n",
              "            color:  #000000;\n",
              "        }#T_e381045c_46ec_11ec_aa5c_0242ac1c0002row3_col0{\n",
              "            background-color:  #2373b6;\n",
              "            color:  #f1f1f1;\n",
              "        }#T_e381045c_46ec_11ec_aa5c_0242ac1c0002row3_col1{\n",
              "            background-color:  #b0d2e7;\n",
              "            color:  #000000;\n",
              "        }#T_e381045c_46ec_11ec_aa5c_0242ac1c0002row3_col2{\n",
              "            background-color:  #aacfe5;\n",
              "            color:  #000000;\n",
              "        }#T_e381045c_46ec_11ec_aa5c_0242ac1c0002row3_col3{\n",
              "            background-color:  #b4d3e9;\n",
              "            color:  #000000;\n",
              "        }#T_e381045c_46ec_11ec_aa5c_0242ac1c0002row3_col4{\n",
              "            background-color:  #a1cbe2;\n",
              "            color:  #000000;\n",
              "        }#T_e381045c_46ec_11ec_aa5c_0242ac1c0002row3_col5{\n",
              "            background-color:  #99c7e0;\n",
              "            color:  #000000;\n",
              "        }#T_e381045c_46ec_11ec_aa5c_0242ac1c0002row3_col6{\n",
              "            background-color:  #87bddc;\n",
              "            color:  #000000;\n",
              "        }</style><table id=\"T_e381045c_46ec_11ec_aa5c_0242ac1c0002\" class=\"dataframe\"><thead>    <tr>        <th class=\"blank level0\" ></th>        <th class=\"col_heading level0 col0\" >월</th>        <th class=\"col_heading level0 col1\" >화</th>        <th class=\"col_heading level0 col2\" >수</th>        <th class=\"col_heading level0 col3\" >목</th>        <th class=\"col_heading level0 col4\" >금</th>        <th class=\"col_heading level0 col5\" >토</th>        <th class=\"col_heading level0 col6\" >일</th>    </tr>    <tr>        <th class=\"index_name level0\" >확진월</th>        <th class=\"blank\" ></th>        <th class=\"blank\" ></th>        <th class=\"blank\" ></th>        <th class=\"blank\" ></th>        <th class=\"blank\" ></th>        <th class=\"blank\" ></th>        <th class=\"blank\" ></th>    </tr></thead><tbody>\n",
              "                <tr>\n",
              "                        <th id=\"T_e381045c_46ec_11ec_aa5c_0242ac1c0002level0_row0\" class=\"row_heading level0 row0\" >8</th>\n",
              "                        <td id=\"T_e381045c_46ec_11ec_aa5c_0242ac1c0002row0_col0\" class=\"data row0 col0\" >892</td>\n",
              "                        <td id=\"T_e381045c_46ec_11ec_aa5c_0242ac1c0002row0_col1\" class=\"data row0 col1\" >1418</td>\n",
              "                        <td id=\"T_e381045c_46ec_11ec_aa5c_0242ac1c0002row0_col2\" class=\"data row0 col2\" >1145</td>\n",
              "                        <td id=\"T_e381045c_46ec_11ec_aa5c_0242ac1c0002row0_col3\" class=\"data row0 col3\" >1110</td>\n",
              "                        <td id=\"T_e381045c_46ec_11ec_aa5c_0242ac1c0002row0_col4\" class=\"data row0 col4\" >1094</td>\n",
              "                        <td id=\"T_e381045c_46ec_11ec_aa5c_0242ac1c0002row0_col5\" class=\"data row0 col5\" >1014</td>\n",
              "                        <td id=\"T_e381045c_46ec_11ec_aa5c_0242ac1c0002row0_col6\" class=\"data row0 col6\" >830</td>\n",
              "            </tr>\n",
              "            <tr>\n",
              "                        <th id=\"T_e381045c_46ec_11ec_aa5c_0242ac1c0002level0_row1\" class=\"row_heading level0 row1\" >9</th>\n",
              "                        <td id=\"T_e381045c_46ec_11ec_aa5c_0242ac1c0002row1_col0\" class=\"data row1 col0\" >2538</td>\n",
              "                        <td id=\"T_e381045c_46ec_11ec_aa5c_0242ac1c0002row1_col1\" class=\"data row1 col1\" >3174</td>\n",
              "                        <td id=\"T_e381045c_46ec_11ec_aa5c_0242ac1c0002row1_col2\" class=\"data row1 col2\" >3533</td>\n",
              "                        <td id=\"T_e381045c_46ec_11ec_aa5c_0242ac1c0002row1_col3\" class=\"data row1 col3\" >3775</td>\n",
              "                        <td id=\"T_e381045c_46ec_11ec_aa5c_0242ac1c0002row1_col4\" class=\"data row1 col4\" >3148</td>\n",
              "                        <td id=\"T_e381045c_46ec_11ec_aa5c_0242ac1c0002row1_col5\" class=\"data row1 col5\" >2835</td>\n",
              "                        <td id=\"T_e381045c_46ec_11ec_aa5c_0242ac1c0002row1_col6\" class=\"data row1 col6\" >2380</td>\n",
              "            </tr>\n",
              "            <tr>\n",
              "                        <th id=\"T_e381045c_46ec_11ec_aa5c_0242ac1c0002level0_row2\" class=\"row_heading level0 row2\" >10</th>\n",
              "                        <td id=\"T_e381045c_46ec_11ec_aa5c_0242ac1c0002row2_col0\" class=\"data row2 col0\" >1728</td>\n",
              "                        <td id=\"T_e381045c_46ec_11ec_aa5c_0242ac1c0002row2_col1\" class=\"data row2 col1\" >2504</td>\n",
              "                        <td id=\"T_e381045c_46ec_11ec_aa5c_0242ac1c0002row2_col2\" class=\"data row2 col2\" >2877</td>\n",
              "                        <td id=\"T_e381045c_46ec_11ec_aa5c_0242ac1c0002row2_col3\" class=\"data row2 col3\" >2742</td>\n",
              "                        <td id=\"T_e381045c_46ec_11ec_aa5c_0242ac1c0002row2_col4\" class=\"data row2 col4\" >3346</td>\n",
              "                        <td id=\"T_e381045c_46ec_11ec_aa5c_0242ac1c0002row2_col5\" class=\"data row2 col5\" >3103</td>\n",
              "                        <td id=\"T_e381045c_46ec_11ec_aa5c_0242ac1c0002row2_col6\" class=\"data row2 col6\" >2540</td>\n",
              "            </tr>\n",
              "            <tr>\n",
              "                        <th id=\"T_e381045c_46ec_11ec_aa5c_0242ac1c0002level0_row3\" class=\"row_heading level0 row3\" >11</th>\n",
              "                        <td id=\"T_e381045c_46ec_11ec_aa5c_0242ac1c0002row3_col0\" class=\"data row3 col0\" >2108</td>\n",
              "                        <td id=\"T_e381045c_46ec_11ec_aa5c_0242ac1c0002row3_col1\" class=\"data row3 col1\" >1977</td>\n",
              "                        <td id=\"T_e381045c_46ec_11ec_aa5c_0242ac1c0002row3_col2\" class=\"data row3 col2\" >1950</td>\n",
              "                        <td id=\"T_e381045c_46ec_11ec_aa5c_0242ac1c0002row3_col3\" class=\"data row3 col3\" >1927</td>\n",
              "                        <td id=\"T_e381045c_46ec_11ec_aa5c_0242ac1c0002row3_col4\" class=\"data row3 col4\" >1920</td>\n",
              "                        <td id=\"T_e381045c_46ec_11ec_aa5c_0242ac1c0002row3_col5\" class=\"data row3 col5\" >1826</td>\n",
              "                        <td id=\"T_e381045c_46ec_11ec_aa5c_0242ac1c0002row3_col6\" class=\"data row3 col6\" >1566</td>\n",
              "            </tr>\n",
              "    </tbody></table>"
            ],
            "text/plain": [
              "<pandas.io.formats.style.Styler at 0x7f19f66ddf90>"
            ]
          },
          "metadata": {},
          "execution_count": 136
        }
      ]
    },
    {
      "cell_type": "code",
      "metadata": {
        "colab": {
          "base_uri": "https://localhost:8080/",
          "height": 1000
        },
        "id": "P84jlpJ3Pv6P",
        "outputId": "96339293-9271-49ca-f598-94d9ccb5e4b9"
      },
      "source": [
        "# 접촉력 빈도수를 구합니다.\n",
        "df[\"접촉력\"].value_counts().head(20)\n",
        "\n",
        "# 접촉력의 unique 값만 구합니다.\n",
        "df[\"접촉력\"].unique()\n",
        "\n",
        "# \"확인\" 이 들어가는 접촉력만 찾습니다.\n",
        "df.loc[df[\"접촉력\"].str.contains(\"확인\"), \"접촉력\"].unique()\n",
        "\n",
        "# '확인 중', '확인중' => \"확인 중\" 으로 변경합니다.\n",
        "\n",
        "df.loc[df[\"접촉력\"].str.contains(\"확인\"), \"접촉력\"] = \"확인 중\"\n",
        "\n",
        "# \"확인\" 이 들어가는 접촉력만 찾습니다.\n",
        "\n",
        "df.loc[df[\"접촉력\"].str.contains(\"확인\"), \"접촉력\"].unique()\n",
        "\n",
        "# 접촉력 빈도수를 시각화 합니다.\n",
        "\n",
        "contact_count = df[\"접촉력\"].value_counts()\n",
        "contact_count_top = contact_count.sort_values().tail(5)\n",
        "contact_count_top.plot.barh(figsize=(10, 12))"
      ],
      "execution_count": 139,
      "outputs": [
        {
          "output_type": "execute_result",
          "data": {
            "text/plain": [
              "<matplotlib.axes._subplots.AxesSubplot at 0x7f19f210e8d0>"
            ]
          },
          "metadata": {},
          "execution_count": 139
        },
        {
          "output_type": "stream",
          "name": "stderr",
          "text": [
            "/usr/local/lib/python3.7/dist-packages/matplotlib/backends/backend_agg.py:214: RuntimeWarning: Glyph 48337 missing from current font.\n",
            "  font.set_text(s, 0.0, flags=flags)\n",
            "/usr/local/lib/python3.7/dist-packages/matplotlib/backends/backend_agg.py:214: RuntimeWarning: Glyph 50896 missing from current font.\n",
            "  font.set_text(s, 0.0, flags=flags)\n",
            "/usr/local/lib/python3.7/dist-packages/matplotlib/backends/backend_agg.py:214: RuntimeWarning: Glyph 48143 missing from current font.\n",
            "  font.set_text(s, 0.0, flags=flags)\n",
            "/usr/local/lib/python3.7/dist-packages/matplotlib/backends/backend_agg.py:214: RuntimeWarning: Glyph 50836 missing from current font.\n",
            "  font.set_text(s, 0.0, flags=flags)\n",
            "/usr/local/lib/python3.7/dist-packages/matplotlib/backends/backend_agg.py:214: RuntimeWarning: Glyph 50577 missing from current font.\n",
            "  font.set_text(s, 0.0, flags=flags)\n",
            "/usr/local/lib/python3.7/dist-packages/matplotlib/backends/backend_agg.py:214: RuntimeWarning: Glyph 49884 missing from current font.\n",
            "  font.set_text(s, 0.0, flags=flags)\n",
            "/usr/local/lib/python3.7/dist-packages/matplotlib/backends/backend_agg.py:214: RuntimeWarning: Glyph 49444 missing from current font.\n",
            "  font.set_text(s, 0.0, flags=flags)\n",
            "/usr/local/lib/python3.7/dist-packages/matplotlib/backends/backend_agg.py:214: RuntimeWarning: Glyph 49569 missing from current font.\n",
            "  font.set_text(s, 0.0, flags=flags)\n",
            "/usr/local/lib/python3.7/dist-packages/matplotlib/backends/backend_agg.py:214: RuntimeWarning: Glyph 54028 missing from current font.\n",
            "  font.set_text(s, 0.0, flags=flags)\n",
            "/usr/local/lib/python3.7/dist-packages/matplotlib/backends/backend_agg.py:214: RuntimeWarning: Glyph 44396 missing from current font.\n",
            "  font.set_text(s, 0.0, flags=flags)\n",
            "/usr/local/lib/python3.7/dist-packages/matplotlib/backends/backend_agg.py:214: RuntimeWarning: Glyph 49548 missing from current font.\n",
            "  font.set_text(s, 0.0, flags=flags)\n",
            "/usr/local/lib/python3.7/dist-packages/matplotlib/backends/backend_agg.py:214: RuntimeWarning: Glyph 51116 missing from current font.\n",
            "  font.set_text(s, 0.0, flags=flags)\n",
            "/usr/local/lib/python3.7/dist-packages/matplotlib/backends/backend_agg.py:214: RuntimeWarning: Glyph 51109 missing from current font.\n",
            "  font.set_text(s, 0.0, flags=flags)\n",
            "/usr/local/lib/python3.7/dist-packages/matplotlib/backends/backend_agg.py:214: RuntimeWarning: Glyph 44288 missing from current font.\n",
            "  font.set_text(s, 0.0, flags=flags)\n",
            "/usr/local/lib/python3.7/dist-packages/matplotlib/backends/backend_agg.py:214: RuntimeWarning: Glyph 47144 missing from current font.\n",
            "  font.set_text(s, 0.0, flags=flags)\n",
            "/usr/local/lib/python3.7/dist-packages/matplotlib/backends/backend_agg.py:214: RuntimeWarning: Glyph 53440 missing from current font.\n",
            "  font.set_text(s, 0.0, flags=flags)\n",
            "/usr/local/lib/python3.7/dist-packages/matplotlib/backends/backend_agg.py:214: RuntimeWarning: Glyph 46020 missing from current font.\n",
            "  font.set_text(s, 0.0, flags=flags)\n",
            "/usr/local/lib/python3.7/dist-packages/matplotlib/backends/backend_agg.py:214: RuntimeWarning: Glyph 54869 missing from current font.\n",
            "  font.set_text(s, 0.0, flags=flags)\n",
            "/usr/local/lib/python3.7/dist-packages/matplotlib/backends/backend_agg.py:214: RuntimeWarning: Glyph 51652 missing from current font.\n",
            "  font.set_text(s, 0.0, flags=flags)\n",
            "/usr/local/lib/python3.7/dist-packages/matplotlib/backends/backend_agg.py:214: RuntimeWarning: Glyph 51088 missing from current font.\n",
            "  font.set_text(s, 0.0, flags=flags)\n",
            "/usr/local/lib/python3.7/dist-packages/matplotlib/backends/backend_agg.py:214: RuntimeWarning: Glyph 51217 missing from current font.\n",
            "  font.set_text(s, 0.0, flags=flags)\n",
            "/usr/local/lib/python3.7/dist-packages/matplotlib/backends/backend_agg.py:214: RuntimeWarning: Glyph 52489 missing from current font.\n",
            "  font.set_text(s, 0.0, flags=flags)\n",
            "/usr/local/lib/python3.7/dist-packages/matplotlib/backends/backend_agg.py:214: RuntimeWarning: Glyph 44048 missing from current font.\n",
            "  font.set_text(s, 0.0, flags=flags)\n",
            "/usr/local/lib/python3.7/dist-packages/matplotlib/backends/backend_agg.py:214: RuntimeWarning: Glyph 50684 missing from current font.\n",
            "  font.set_text(s, 0.0, flags=flags)\n",
            "/usr/local/lib/python3.7/dist-packages/matplotlib/backends/backend_agg.py:214: RuntimeWarning: Glyph 44221 missing from current font.\n",
            "  font.set_text(s, 0.0, flags=flags)\n",
            "/usr/local/lib/python3.7/dist-packages/matplotlib/backends/backend_agg.py:214: RuntimeWarning: Glyph 47196 missing from current font.\n",
            "  font.set_text(s, 0.0, flags=flags)\n",
            "/usr/local/lib/python3.7/dist-packages/matplotlib/backends/backend_agg.py:214: RuntimeWarning: Glyph 51312 missing from current font.\n",
            "  font.set_text(s, 0.0, flags=flags)\n",
            "/usr/local/lib/python3.7/dist-packages/matplotlib/backends/backend_agg.py:214: RuntimeWarning: Glyph 49324 missing from current font.\n",
            "  font.set_text(s, 0.0, flags=flags)\n",
            "/usr/local/lib/python3.7/dist-packages/matplotlib/backends/backend_agg.py:214: RuntimeWarning: Glyph 51473 missing from current font.\n",
            "  font.set_text(s, 0.0, flags=flags)\n",
            "/usr/local/lib/python3.7/dist-packages/matplotlib/backends/backend_agg.py:214: RuntimeWarning: Glyph 44592 missing from current font.\n",
            "  font.set_text(s, 0.0, flags=flags)\n",
            "/usr/local/lib/python3.7/dist-packages/matplotlib/backends/backend_agg.py:183: RuntimeWarning: Glyph 48337 missing from current font.\n",
            "  font.set_text(s, 0, flags=flags)\n",
            "/usr/local/lib/python3.7/dist-packages/matplotlib/backends/backend_agg.py:183: RuntimeWarning: Glyph 50896 missing from current font.\n",
            "  font.set_text(s, 0, flags=flags)\n",
            "/usr/local/lib/python3.7/dist-packages/matplotlib/backends/backend_agg.py:183: RuntimeWarning: Glyph 48143 missing from current font.\n",
            "  font.set_text(s, 0, flags=flags)\n",
            "/usr/local/lib/python3.7/dist-packages/matplotlib/backends/backend_agg.py:183: RuntimeWarning: Glyph 50836 missing from current font.\n",
            "  font.set_text(s, 0, flags=flags)\n",
            "/usr/local/lib/python3.7/dist-packages/matplotlib/backends/backend_agg.py:183: RuntimeWarning: Glyph 50577 missing from current font.\n",
            "  font.set_text(s, 0, flags=flags)\n",
            "/usr/local/lib/python3.7/dist-packages/matplotlib/backends/backend_agg.py:183: RuntimeWarning: Glyph 49884 missing from current font.\n",
            "  font.set_text(s, 0, flags=flags)\n",
            "/usr/local/lib/python3.7/dist-packages/matplotlib/backends/backend_agg.py:183: RuntimeWarning: Glyph 49444 missing from current font.\n",
            "  font.set_text(s, 0, flags=flags)\n",
            "/usr/local/lib/python3.7/dist-packages/matplotlib/backends/backend_agg.py:183: RuntimeWarning: Glyph 49569 missing from current font.\n",
            "  font.set_text(s, 0, flags=flags)\n",
            "/usr/local/lib/python3.7/dist-packages/matplotlib/backends/backend_agg.py:183: RuntimeWarning: Glyph 54028 missing from current font.\n",
            "  font.set_text(s, 0, flags=flags)\n",
            "/usr/local/lib/python3.7/dist-packages/matplotlib/backends/backend_agg.py:183: RuntimeWarning: Glyph 44396 missing from current font.\n",
            "  font.set_text(s, 0, flags=flags)\n",
            "/usr/local/lib/python3.7/dist-packages/matplotlib/backends/backend_agg.py:183: RuntimeWarning: Glyph 49548 missing from current font.\n",
            "  font.set_text(s, 0, flags=flags)\n",
            "/usr/local/lib/python3.7/dist-packages/matplotlib/backends/backend_agg.py:183: RuntimeWarning: Glyph 51116 missing from current font.\n",
            "  font.set_text(s, 0, flags=flags)\n",
            "/usr/local/lib/python3.7/dist-packages/matplotlib/backends/backend_agg.py:183: RuntimeWarning: Glyph 51109 missing from current font.\n",
            "  font.set_text(s, 0, flags=flags)\n",
            "/usr/local/lib/python3.7/dist-packages/matplotlib/backends/backend_agg.py:183: RuntimeWarning: Glyph 44288 missing from current font.\n",
            "  font.set_text(s, 0, flags=flags)\n",
            "/usr/local/lib/python3.7/dist-packages/matplotlib/backends/backend_agg.py:183: RuntimeWarning: Glyph 47144 missing from current font.\n",
            "  font.set_text(s, 0, flags=flags)\n",
            "/usr/local/lib/python3.7/dist-packages/matplotlib/backends/backend_agg.py:183: RuntimeWarning: Glyph 53440 missing from current font.\n",
            "  font.set_text(s, 0, flags=flags)\n",
            "/usr/local/lib/python3.7/dist-packages/matplotlib/backends/backend_agg.py:183: RuntimeWarning: Glyph 46020 missing from current font.\n",
            "  font.set_text(s, 0, flags=flags)\n",
            "/usr/local/lib/python3.7/dist-packages/matplotlib/backends/backend_agg.py:183: RuntimeWarning: Glyph 54869 missing from current font.\n",
            "  font.set_text(s, 0, flags=flags)\n",
            "/usr/local/lib/python3.7/dist-packages/matplotlib/backends/backend_agg.py:183: RuntimeWarning: Glyph 51652 missing from current font.\n",
            "  font.set_text(s, 0, flags=flags)\n",
            "/usr/local/lib/python3.7/dist-packages/matplotlib/backends/backend_agg.py:183: RuntimeWarning: Glyph 51088 missing from current font.\n",
            "  font.set_text(s, 0, flags=flags)\n",
            "/usr/local/lib/python3.7/dist-packages/matplotlib/backends/backend_agg.py:183: RuntimeWarning: Glyph 51217 missing from current font.\n",
            "  font.set_text(s, 0, flags=flags)\n",
            "/usr/local/lib/python3.7/dist-packages/matplotlib/backends/backend_agg.py:183: RuntimeWarning: Glyph 52489 missing from current font.\n",
            "  font.set_text(s, 0, flags=flags)\n",
            "/usr/local/lib/python3.7/dist-packages/matplotlib/backends/backend_agg.py:183: RuntimeWarning: Glyph 44048 missing from current font.\n",
            "  font.set_text(s, 0, flags=flags)\n",
            "/usr/local/lib/python3.7/dist-packages/matplotlib/backends/backend_agg.py:183: RuntimeWarning: Glyph 50684 missing from current font.\n",
            "  font.set_text(s, 0, flags=flags)\n",
            "/usr/local/lib/python3.7/dist-packages/matplotlib/backends/backend_agg.py:183: RuntimeWarning: Glyph 44221 missing from current font.\n",
            "  font.set_text(s, 0, flags=flags)\n",
            "/usr/local/lib/python3.7/dist-packages/matplotlib/backends/backend_agg.py:183: RuntimeWarning: Glyph 47196 missing from current font.\n",
            "  font.set_text(s, 0, flags=flags)\n",
            "/usr/local/lib/python3.7/dist-packages/matplotlib/backends/backend_agg.py:183: RuntimeWarning: Glyph 51312 missing from current font.\n",
            "  font.set_text(s, 0, flags=flags)\n",
            "/usr/local/lib/python3.7/dist-packages/matplotlib/backends/backend_agg.py:183: RuntimeWarning: Glyph 49324 missing from current font.\n",
            "  font.set_text(s, 0, flags=flags)\n",
            "/usr/local/lib/python3.7/dist-packages/matplotlib/backends/backend_agg.py:183: RuntimeWarning: Glyph 51473 missing from current font.\n",
            "  font.set_text(s, 0, flags=flags)\n",
            "/usr/local/lib/python3.7/dist-packages/matplotlib/backends/backend_agg.py:183: RuntimeWarning: Glyph 44592 missing from current font.\n",
            "  font.set_text(s, 0, flags=flags)\n"
          ]
        },
        {
          "output_type": "display_data",
          "data": {
            "image/png": "[encoded data removed]",
            "text/plain": [
              "<Figure size 720x864 with 1 Axes>"
            ]
          },
          "metadata": {
            "needs_background": "light"
          }
        }
      ]
    },
    {
      "cell_type": "code",
      "metadata": {
        "colab": {
          "base_uri": "https://localhost:8080/",
          "height": 1000
        },
        "id": "ou1C1GfVa9SJ",
        "outputId": "3a0c9021-63c6-430d-f121-889c0a89c6b0"
      },
      "source": [
        "#거주지\n",
        "gu_count = df_all[\"거주지\"].value_counts().sort_index()\n",
        "gu_count.plot.bar(rot=0,figsize=(22,10))"
      ],
      "execution_count": 156,
      "outputs": [
        {
          "output_type": "execute_result",
          "data": {
            "text/plain": [
              "<matplotlib.axes._subplots.AxesSubplot at 0x7f19f207fb10>"
            ]
          },
          "metadata": {},
          "execution_count": 156
        },
        {
          "output_type": "stream",
          "name": "stderr",
          "text": [
            "/usr/local/lib/python3.7/dist-packages/matplotlib/backends/backend_agg.py:214: RuntimeWarning: Glyph 44053 missing from current font.\n",
            "  font.set_text(s, 0.0, flags=flags)\n",
            "/usr/local/lib/python3.7/dist-packages/matplotlib/backends/backend_agg.py:214: RuntimeWarning: Glyph 45224 missing from current font.\n",
            "  font.set_text(s, 0.0, flags=flags)\n",
            "/usr/local/lib/python3.7/dist-packages/matplotlib/backends/backend_agg.py:214: RuntimeWarning: Glyph 44396 missing from current font.\n",
            "  font.set_text(s, 0.0, flags=flags)\n",
            "/usr/local/lib/python3.7/dist-packages/matplotlib/backends/backend_agg.py:214: RuntimeWarning: Glyph 46041 missing from current font.\n",
            "  font.set_text(s, 0.0, flags=flags)\n",
            "/usr/local/lib/python3.7/dist-packages/matplotlib/backends/backend_agg.py:214: RuntimeWarning: Glyph 48513 missing from current font.\n",
            "  font.set_text(s, 0.0, flags=flags)\n",
            "/usr/local/lib/python3.7/dist-packages/matplotlib/backends/backend_agg.py:214: RuntimeWarning: Glyph 49436 missing from current font.\n",
            "  font.set_text(s, 0.0, flags=flags)\n",
            "/usr/local/lib/python3.7/dist-packages/matplotlib/backends/backend_agg.py:214: RuntimeWarning: Glyph 44288 missing from current font.\n",
            "  font.set_text(s, 0.0, flags=flags)\n",
            "/usr/local/lib/python3.7/dist-packages/matplotlib/backends/backend_agg.py:214: RuntimeWarning: Glyph 50501 missing from current font.\n",
            "  font.set_text(s, 0.0, flags=flags)\n",
            "/usr/local/lib/python3.7/dist-packages/matplotlib/backends/backend_agg.py:214: RuntimeWarning: Glyph 44305 missing from current font.\n",
            "  font.set_text(s, 0.0, flags=flags)\n",
            "/usr/local/lib/python3.7/dist-packages/matplotlib/backends/backend_agg.py:214: RuntimeWarning: Glyph 51652 missing from current font.\n",
            "  font.set_text(s, 0.0, flags=flags)\n",
            "/usr/local/lib/python3.7/dist-packages/matplotlib/backends/backend_agg.py:214: RuntimeWarning: Glyph 47196 missing from current font.\n",
            "  font.set_text(s, 0.0, flags=flags)\n",
            "/usr/local/lib/python3.7/dist-packages/matplotlib/backends/backend_agg.py:214: RuntimeWarning: Glyph 44552 missing from current font.\n",
            "  font.set_text(s, 0.0, flags=flags)\n",
            "/usr/local/lib/python3.7/dist-packages/matplotlib/backends/backend_agg.py:214: RuntimeWarning: Glyph 52380 missing from current font.\n",
            "  font.set_text(s, 0.0, flags=flags)\n",
            "/usr/local/lib/python3.7/dist-packages/matplotlib/backends/backend_agg.py:214: RuntimeWarning: Glyph 44592 missing from current font.\n",
            "  font.set_text(s, 0.0, flags=flags)\n",
            "/usr/local/lib/python3.7/dist-packages/matplotlib/backends/backend_agg.py:214: RuntimeWarning: Glyph 53440 missing from current font.\n",
            "  font.set_text(s, 0.0, flags=flags)\n",
            "/usr/local/lib/python3.7/dist-packages/matplotlib/backends/backend_agg.py:214: RuntimeWarning: Glyph 45432 missing from current font.\n",
            "  font.set_text(s, 0.0, flags=flags)\n",
            "/usr/local/lib/python3.7/dist-packages/matplotlib/backends/backend_agg.py:214: RuntimeWarning: Glyph 50896 missing from current font.\n",
            "  font.set_text(s, 0.0, flags=flags)\n",
            "/usr/local/lib/python3.7/dist-packages/matplotlib/backends/backend_agg.py:214: RuntimeWarning: Glyph 46020 missing from current font.\n",
            "  font.set_text(s, 0.0, flags=flags)\n",
            "/usr/local/lib/python3.7/dist-packages/matplotlib/backends/backend_agg.py:214: RuntimeWarning: Glyph 48393 missing from current font.\n",
            "  font.set_text(s, 0.0, flags=flags)\n",
            "/usr/local/lib/python3.7/dist-packages/matplotlib/backends/backend_agg.py:214: RuntimeWarning: Glyph 45824 missing from current font.\n",
            "  font.set_text(s, 0.0, flags=flags)\n",
            "/usr/local/lib/python3.7/dist-packages/matplotlib/backends/backend_agg.py:214: RuntimeWarning: Glyph 47928 missing from current font.\n",
            "  font.set_text(s, 0.0, flags=flags)\n",
            "/usr/local/lib/python3.7/dist-packages/matplotlib/backends/backend_agg.py:214: RuntimeWarning: Glyph 51089 missing from current font.\n",
            "  font.set_text(s, 0.0, flags=flags)\n",
            "/usr/local/lib/python3.7/dist-packages/matplotlib/backends/backend_agg.py:214: RuntimeWarning: Glyph 47560 missing from current font.\n",
            "  font.set_text(s, 0.0, flags=flags)\n",
            "/usr/local/lib/python3.7/dist-packages/matplotlib/backends/backend_agg.py:214: RuntimeWarning: Glyph 54252 missing from current font.\n",
            "  font.set_text(s, 0.0, flags=flags)\n",
            "/usr/local/lib/python3.7/dist-packages/matplotlib/backends/backend_agg.py:214: RuntimeWarning: Glyph 52488 missing from current font.\n",
            "  font.set_text(s, 0.0, flags=flags)\n",
            "/usr/local/lib/python3.7/dist-packages/matplotlib/backends/backend_agg.py:214: RuntimeWarning: Glyph 49457 missing from current font.\n",
            "  font.set_text(s, 0.0, flags=flags)\n",
            "/usr/local/lib/python3.7/dist-packages/matplotlib/backends/backend_agg.py:214: RuntimeWarning: Glyph 49569 missing from current font.\n",
            "  font.set_text(s, 0.0, flags=flags)\n",
            "/usr/local/lib/python3.7/dist-packages/matplotlib/backends/backend_agg.py:214: RuntimeWarning: Glyph 54028 missing from current font.\n",
            "  font.set_text(s, 0.0, flags=flags)\n",
            "/usr/local/lib/python3.7/dist-packages/matplotlib/backends/backend_agg.py:214: RuntimeWarning: Glyph 50577 missing from current font.\n",
            "  font.set_text(s, 0.0, flags=flags)\n",
            "/usr/local/lib/python3.7/dist-packages/matplotlib/backends/backend_agg.py:214: RuntimeWarning: Glyph 50689 missing from current font.\n",
            "  font.set_text(s, 0.0, flags=flags)\n",
            "/usr/local/lib/python3.7/dist-packages/matplotlib/backends/backend_agg.py:214: RuntimeWarning: Glyph 46321 missing from current font.\n",
            "  font.set_text(s, 0.0, flags=flags)\n",
            "/usr/local/lib/python3.7/dist-packages/matplotlib/backends/backend_agg.py:214: RuntimeWarning: Glyph 50857 missing from current font.\n",
            "  font.set_text(s, 0.0, flags=flags)\n",
            "/usr/local/lib/python3.7/dist-packages/matplotlib/backends/backend_agg.py:214: RuntimeWarning: Glyph 49328 missing from current font.\n",
            "  font.set_text(s, 0.0, flags=flags)\n",
            "/usr/local/lib/python3.7/dist-packages/matplotlib/backends/backend_agg.py:214: RuntimeWarning: Glyph 51008 missing from current font.\n",
            "  font.set_text(s, 0.0, flags=flags)\n",
            "/usr/local/lib/python3.7/dist-packages/matplotlib/backends/backend_agg.py:214: RuntimeWarning: Glyph 54217 missing from current font.\n",
            "  font.set_text(s, 0.0, flags=flags)\n",
            "/usr/local/lib/python3.7/dist-packages/matplotlib/backends/backend_agg.py:214: RuntimeWarning: Glyph 51333 missing from current font.\n",
            "  font.set_text(s, 0.0, flags=flags)\n",
            "/usr/local/lib/python3.7/dist-packages/matplotlib/backends/backend_agg.py:214: RuntimeWarning: Glyph 51473 missing from current font.\n",
            "  font.set_text(s, 0.0, flags=flags)\n",
            "/usr/local/lib/python3.7/dist-packages/matplotlib/backends/backend_agg.py:214: RuntimeWarning: Glyph 46993 missing from current font.\n",
            "  font.set_text(s, 0.0, flags=flags)\n",
            "/usr/local/lib/python3.7/dist-packages/matplotlib/backends/backend_agg.py:214: RuntimeWarning: Glyph 49884 missing from current font.\n",
            "  font.set_text(s, 0.0, flags=flags)\n",
            "/usr/local/lib/python3.7/dist-packages/matplotlib/backends/backend_agg.py:183: RuntimeWarning: Glyph 44053 missing from current font.\n",
            "  font.set_text(s, 0, flags=flags)\n",
            "/usr/local/lib/python3.7/dist-packages/matplotlib/backends/backend_agg.py:183: RuntimeWarning: Glyph 45224 missing from current font.\n",
            "  font.set_text(s, 0, flags=flags)\n",
            "/usr/local/lib/python3.7/dist-packages/matplotlib/backends/backend_agg.py:183: RuntimeWarning: Glyph 44396 missing from current font.\n",
            "  font.set_text(s, 0, flags=flags)\n",
            "/usr/local/lib/python3.7/dist-packages/matplotlib/backends/backend_agg.py:183: RuntimeWarning: Glyph 46041 missing from current font.\n",
            "  font.set_text(s, 0, flags=flags)\n",
            "/usr/local/lib/python3.7/dist-packages/matplotlib/backends/backend_agg.py:183: RuntimeWarning: Glyph 48513 missing from current font.\n",
            "  font.set_text(s, 0, flags=flags)\n",
            "/usr/local/lib/python3.7/dist-packages/matplotlib/backends/backend_agg.py:183: RuntimeWarning: Glyph 49436 missing from current font.\n",
            "  font.set_text(s, 0, flags=flags)\n",
            "/usr/local/lib/python3.7/dist-packages/matplotlib/backends/backend_agg.py:183: RuntimeWarning: Glyph 44288 missing from current font.\n",
            "  font.set_text(s, 0, flags=flags)\n",
            "/usr/local/lib/python3.7/dist-packages/matplotlib/backends/backend_agg.py:183: RuntimeWarning: Glyph 50501 missing from current font.\n",
            "  font.set_text(s, 0, flags=flags)\n",
            "/usr/local/lib/python3.7/dist-packages/matplotlib/backends/backend_agg.py:183: RuntimeWarning: Glyph 44305 missing from current font.\n",
            "  font.set_text(s, 0, flags=flags)\n",
            "/usr/local/lib/python3.7/dist-packages/matplotlib/backends/backend_agg.py:183: RuntimeWarning: Glyph 51652 missing from current font.\n",
            "  font.set_text(s, 0, flags=flags)\n",
            "/usr/local/lib/python3.7/dist-packages/matplotlib/backends/backend_agg.py:183: RuntimeWarning: Glyph 47196 missing from current font.\n",
            "  font.set_text(s, 0, flags=flags)\n",
            "/usr/local/lib/python3.7/dist-packages/matplotlib/backends/backend_agg.py:183: RuntimeWarning: Glyph 44552 missing from current font.\n",
            "  font.set_text(s, 0, flags=flags)\n",
            "/usr/local/lib/python3.7/dist-packages/matplotlib/backends/backend_agg.py:183: RuntimeWarning: Glyph 52380 missing from current font.\n",
            "  font.set_text(s, 0, flags=flags)\n",
            "/usr/local/lib/python3.7/dist-packages/matplotlib/backends/backend_agg.py:183: RuntimeWarning: Glyph 44592 missing from current font.\n",
            "  font.set_text(s, 0, flags=flags)\n",
            "/usr/local/lib/python3.7/dist-packages/matplotlib/backends/backend_agg.py:183: RuntimeWarning: Glyph 53440 missing from current font.\n",
            "  font.set_text(s, 0, flags=flags)\n",
            "/usr/local/lib/python3.7/dist-packages/matplotlib/backends/backend_agg.py:183: RuntimeWarning: Glyph 45432 missing from current font.\n",
            "  font.set_text(s, 0, flags=flags)\n",
            "/usr/local/lib/python3.7/dist-packages/matplotlib/backends/backend_agg.py:183: RuntimeWarning: Glyph 50896 missing from current font.\n",
            "  font.set_text(s, 0, flags=flags)\n",
            "/usr/local/lib/python3.7/dist-packages/matplotlib/backends/backend_agg.py:183: RuntimeWarning: Glyph 46020 missing from current font.\n",
            "  font.set_text(s, 0, flags=flags)\n",
            "/usr/local/lib/python3.7/dist-packages/matplotlib/backends/backend_agg.py:183: RuntimeWarning: Glyph 48393 missing from current font.\n",
            "  font.set_text(s, 0, flags=flags)\n",
            "/usr/local/lib/python3.7/dist-packages/matplotlib/backends/backend_agg.py:183: RuntimeWarning: Glyph 45824 missing from current font.\n",
            "  font.set_text(s, 0, flags=flags)\n",
            "/usr/local/lib/python3.7/dist-packages/matplotlib/backends/backend_agg.py:183: RuntimeWarning: Glyph 47928 missing from current font.\n",
            "  font.set_text(s, 0, flags=flags)\n",
            "/usr/local/lib/python3.7/dist-packages/matplotlib/backends/backend_agg.py:183: RuntimeWarning: Glyph 51089 missing from current font.\n",
            "  font.set_text(s, 0, flags=flags)\n",
            "/usr/local/lib/python3.7/dist-packages/matplotlib/backends/backend_agg.py:183: RuntimeWarning: Glyph 47560 missing from current font.\n",
            "  font.set_text(s, 0, flags=flags)\n",
            "/usr/local/lib/python3.7/dist-packages/matplotlib/backends/backend_agg.py:183: RuntimeWarning: Glyph 54252 missing from current font.\n",
            "  font.set_text(s, 0, flags=flags)\n",
            "/usr/local/lib/python3.7/dist-packages/matplotlib/backends/backend_agg.py:183: RuntimeWarning: Glyph 52488 missing from current font.\n",
            "  font.set_text(s, 0, flags=flags)\n",
            "/usr/local/lib/python3.7/dist-packages/matplotlib/backends/backend_agg.py:183: RuntimeWarning: Glyph 49457 missing from current font.\n",
            "  font.set_text(s, 0, flags=flags)\n",
            "/usr/local/lib/python3.7/dist-packages/matplotlib/backends/backend_agg.py:183: RuntimeWarning: Glyph 49569 missing from current font.\n",
            "  font.set_text(s, 0, flags=flags)\n",
            "/usr/local/lib/python3.7/dist-packages/matplotlib/backends/backend_agg.py:183: RuntimeWarning: Glyph 54028 missing from current font.\n",
            "  font.set_text(s, 0, flags=flags)\n",
            "/usr/local/lib/python3.7/dist-packages/matplotlib/backends/backend_agg.py:183: RuntimeWarning: Glyph 50577 missing from current font.\n",
            "  font.set_text(s, 0, flags=flags)\n",
            "/usr/local/lib/python3.7/dist-packages/matplotlib/backends/backend_agg.py:183: RuntimeWarning: Glyph 50689 missing from current font.\n",
            "  font.set_text(s, 0, flags=flags)\n",
            "/usr/local/lib/python3.7/dist-packages/matplotlib/backends/backend_agg.py:183: RuntimeWarning: Glyph 46321 missing from current font.\n",
            "  font.set_text(s, 0, flags=flags)\n",
            "/usr/local/lib/python3.7/dist-packages/matplotlib/backends/backend_agg.py:183: RuntimeWarning: Glyph 50857 missing from current font.\n",
            "  font.set_text(s, 0, flags=flags)\n",
            "/usr/local/lib/python3.7/dist-packages/matplotlib/backends/backend_agg.py:183: RuntimeWarning: Glyph 49328 missing from current font.\n",
            "  font.set_text(s, 0, flags=flags)\n",
            "/usr/local/lib/python3.7/dist-packages/matplotlib/backends/backend_agg.py:183: RuntimeWarning: Glyph 51008 missing from current font.\n",
            "  font.set_text(s, 0, flags=flags)\n",
            "/usr/local/lib/python3.7/dist-packages/matplotlib/backends/backend_agg.py:183: RuntimeWarning: Glyph 54217 missing from current font.\n",
            "  font.set_text(s, 0, flags=flags)\n",
            "/usr/local/lib/python3.7/dist-packages/matplotlib/backends/backend_agg.py:183: RuntimeWarning: Glyph 51333 missing from current font.\n",
            "  font.set_text(s, 0, flags=flags)\n",
            "/usr/local/lib/python3.7/dist-packages/matplotlib/backends/backend_agg.py:183: RuntimeWarning: Glyph 51473 missing from current font.\n",
            "  font.set_text(s, 0, flags=flags)\n",
            "/usr/local/lib/python3.7/dist-packages/matplotlib/backends/backend_agg.py:183: RuntimeWarning: Glyph 46993 missing from current font.\n",
            "  font.set_text(s, 0, flags=flags)\n",
            "/usr/local/lib/python3.7/dist-packages/matplotlib/backends/backend_agg.py:183: RuntimeWarning: Glyph 49884 missing from current font.\n",
            "  font.set_text(s, 0, flags=flags)\n"
          ]
        },
        {
          "output_type": "display_data",
          "data": {
            "image/png": "[encoded data removed]",
            "text/plain": [
              "<Figure size 1584x720 with 1 Axes>"
            ]
          },
          "metadata": {}
        }
      ]
    }
  ]
}